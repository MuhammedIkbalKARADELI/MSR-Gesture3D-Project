{
 "cells": [
  {
   "cell_type": "code",
   "execution_count": 27,
   "id": "e15fc91c",
   "metadata": {},
   "outputs": [],
   "source": [
    "import h5py\n",
    "import matplotlib.pyplot as plt\n"
   ]
  },
  {
   "cell_type": "code",
   "execution_count": 33,
   "id": "011a25be",
   "metadata": {},
   "outputs": [],
   "source": [
    "file = \"sub_depth_06_19.mat\""
   ]
  },
  {
   "cell_type": "code",
   "execution_count": 34,
   "id": "6e56dbea",
   "metadata": {},
   "outputs": [],
   "source": [
    "with h5py.File(f\"gestureData/{file}\", \"r\") as f:\n",
    "    key = list(f.keys())[0]  # genellikle 'depth_sequence'\n",
    "    sequence = f[key][:] "
   ]
  },
  {
   "cell_type": "code",
   "execution_count": 35,
   "id": "12d452f8",
   "metadata": {},
   "outputs": [
    {
     "data": {
      "text/plain": [
       "(39, 84, 179)"
      ]
     },
     "execution_count": 35,
     "metadata": {},
     "output_type": "execute_result"
    }
   ],
   "source": [
    "sequence.shape"
   ]
  },
  {
   "cell_type": "code",
   "execution_count": 36,
   "id": "9b57cc4a",
   "metadata": {},
   "outputs": [
    {
     "data": {
      "text/plain": [
       "<matplotlib.image.AxesImage at 0x165e7a350>"
      ]
     },
     "execution_count": 36,
     "metadata": {},
     "output_type": "execute_result"
    },
    {
     "data": {
      "image/png": "[encoded data removed]",
      "text/plain": [
       "<Figure size 640x480 with 1 Axes>"
      ]
     },
     "metadata": {},
     "output_type": "display_data"
    }
   ],
   "source": [
    "# sequence = (sequence - sequence.min()) / (sequence.max() - sequence.min())  # 0-1 arası normalize\n",
    "plt.imshow(sequence[0], cmap='gray')"
   ]
  },
  {
   "cell_type": "code",
   "execution_count": 37,
   "id": "c54ad98f",
   "metadata": {},
   "outputs": [
    {
     "data": {
      "application/vnd.plotly.v1+json": {
       "config": {
        "plotlyServerURL": "https://plot.ly"
       },
       "data": [
        {
         "hovertemplate": "x: %{x}<br>y: %{y}<extra></extra>",
         "name": "0",
         "source": "data:image/png;base64,iVBORw0KGgoAAAANSUhEUgAAALMAAABUCAAAAADsPlkVAAADtklEQVR4Xu2agW7bIBCGgXXTlGlbNe39n3Cq0mWJsk7F1R0HPuDAVqdwTOsfKbYxlj9+nw+wbcy/J9vZBzrCn4e/b806o7XBjMiBGTQH9x7mhDwJdZ/5wcE/Y/bGOHVshGoJkH1mM2D/KKuNVtfnYx4X5LM35ntZc6i6PnNkj8Ii5x7EyqPU8flYBDIqtlEzqDd8bkrT6abPj2ZhgZHtCu3Uc7rBfPKGMRc3IsgpQovMJ8RMzAXygscoQkvMZ8jJy8oalgurAUfpQQvMZ2+MT8jJZM6sC31XlSByUZbxRpWVhqnKdee4wmyukRexFYNUMiMyRjOqgUzUSl14wXyxFopiNLeRUUqjpZz5gvaFUQUMMbaiQAe6jA2bp7g2MSacXntupyxvXGi5AC/0KnndXFYLuc4bMWFvIStmDu7zFf68DbHh/NZc0Rirw133KcY9894CsJrwm626iSpmZ56qDk7khqjS6QoZM4aG8TScI5x09cNortBrZwx/p5U5IBvzm9vHAlaCnmSMBNPqhnJqr+Qyu7rR5l91nYa0kPsnznPwkidsNeR05mgzk9Br8BKdnAGieL66wMAioyYu5LWcxvM+wQLXCHRZGl2zYo+9Cn22fwAFoLc7NpY8vNKYn2KDRg4/w9Y+M7VCI56YKL+IdbhsslkNGc/8vCcmSGug6+WN6FaADrHRH+qvzdPpuYm5uMy7TVdSNyp9mMbK6h55U93R7M9Y8z5NpNP8oyZm10ArNIA5PBL4wEsJuhrjxSeiUK6GDADvhOL1TuPYPM8p9Scg6FMgKCqh1S4bVARk6a4dK2EOSwrxkeDIY1VYUsHArzjLxGl9BuQyF4fXUSmGKX8I/bXeHVgZByjwrjUrFpBVJfosjyY4sabNks+hPLd6HpNrEv56NSa1Gl9ZPRznjAuhHadeUaqh0YyNYu9UVs/EslevutN0Q2MfYynNDyEE5vtiW9RsPr/K+LGqEeeHrgh3BYeualfvBaPn8l4a8yMhfknn4jSF5oBz4EvPMsKHrW3Zr52dAyTOrezC3lZCq/iTJamVYyVdags/QgtLS5s2rDwKBw1UZw7b3dSU5PNmuG5WuK1EnzFheHyKRG3Se3ArSI4NHOyz0XNcQXT1bCeH6SmtrYCr1Z/Tmo4a92CjL0RubeRWOkhf2a01KEd7deROrjMWMNc24eYELjeZ8QOpgzmbQ/qwqu4RtdTqKi5m+RTWrvz2O9Q1x6vFzHSNzFMAywmi1EdazoK8S8J3Em9605v+Y70AHsjr42iDGnIAAAAASUVORK5CYII=",
         "type": "image",
         "xaxis": "x",
         "yaxis": "y"
        }
       ],
       "frames": [
        {
         "data": [
          {
           "name": "0",
           "source": "data:image/png;base64,iVBORw0KGgoAAAANSUhEUgAAALMAAABUCAAAAADsPlkVAAADtklEQVR4Xu2agW7bIBCGgXXTlGlbNe39n3Cq0mWJsk7F1R0HPuDAVqdwTOsfKbYxlj9+nw+wbcy/J9vZBzrCn4e/b806o7XBjMiBGTQH9x7mhDwJdZ/5wcE/Y/bGOHVshGoJkH1mM2D/KKuNVtfnYx4X5LM35ntZc6i6PnNkj8Ii5x7EyqPU8flYBDIqtlEzqDd8bkrT6abPj2ZhgZHtCu3Uc7rBfPKGMRc3IsgpQovMJ8RMzAXygscoQkvMZ8jJy8oalgurAUfpQQvMZ2+MT8jJZM6sC31XlSByUZbxRpWVhqnKdee4wmyukRexFYNUMiMyRjOqgUzUSl14wXyxFopiNLeRUUqjpZz5gvaFUQUMMbaiQAe6jA2bp7g2MSacXntupyxvXGi5AC/0KnndXFYLuc4bMWFvIStmDu7zFf68DbHh/NZc0Rirw133KcY9894CsJrwm626iSpmZ56qDk7khqjS6QoZM4aG8TScI5x09cNortBrZwx/p5U5IBvzm9vHAlaCnmSMBNPqhnJqr+Qyu7rR5l91nYa0kPsnznPwkidsNeR05mgzk9Br8BKdnAGieL66wMAioyYu5LWcxvM+wQLXCHRZGl2zYo+9Cn22fwAFoLc7NpY8vNKYn2KDRg4/w9Y+M7VCI56YKL+IdbhsslkNGc/8vCcmSGug6+WN6FaADrHRH+qvzdPpuYm5uMy7TVdSNyp9mMbK6h55U93R7M9Y8z5NpNP8oyZm10ArNIA5PBL4wEsJuhrjxSeiUK6GDADvhOL1TuPYPM8p9Scg6FMgKCqh1S4bVARk6a4dK2EOSwrxkeDIY1VYUsHArzjLxGl9BuQyF4fXUSmGKX8I/bXeHVgZByjwrjUrFpBVJfosjyY4sabNks+hPLd6HpNrEv56NSa1Gl9ZPRznjAuhHadeUaqh0YyNYu9UVs/EslevutN0Q2MfYynNDyEE5vtiW9RsPr/K+LGqEeeHrgh3BYeualfvBaPn8l4a8yMhfknn4jSF5oBz4EvPMsKHrW3Zr52dAyTOrezC3lZCq/iTJamVYyVdags/QgtLS5s2rDwKBw1UZw7b3dSU5PNmuG5WuK1EnzFheHyKRG3Se3ArSI4NHOyz0XNcQXT1bCeH6SmtrYCr1Z/Tmo4a92CjL0RubeRWOkhf2a01KEd7deROrjMWMNc24eYELjeZ8QOpgzmbQ/qwqu4RtdTqKi5m+RTWrvz2O9Q1x6vFzHSNzFMAywmi1EdazoK8S8J3Em9605v+Y70AHsjr42iDGnIAAAAASUVORK5CYII=",
           "type": "image"
          }
         ],
         "layout": {
          "margin": {
           "t": 60
          }
         },
         "name": "0"
        },
        {
         "data": [
          {
           "name": "1",
           "source": "data:image/png;base64,iVBORw0KGgoAAAANSUhEUgAAALMAAABUCAAAAADsPlkVAAADpElEQVR4Xu2ab2sbMQzG5aPdi43SMvb9P+EYDV1CWRbfkPxXtuSmhVoe5HmRnO2D+/mxLPucAPx/coM21DN9egD4rt4zW28wF2TSGtzXMGfkRajHzL8ANsbsATZz7G3QhsjgfW0z6mdTnq6hz8icldE36wgZ+RwmYFRx23vemenSfT7sTSAXGTut+7y5NpBrWTqtML/AoSbu5qEptBwbLxgMewIV/MaumoWHxPyCH4VZQLaF1uLZwx4vAvK+71iBX3SFtVbhITCjzYhc+Rv4A3YlI+i7pnyMqIkugjewuwM/XkI/Uy1zEdLKxAHajrp57DHU+BAZKZT5PeYSrfJKsmhkZHPz3GP8JmdDxlBcDrU2W7zeK89s1uIi5HUbp9lTT3GFCTbzGyV5m1WlZj6RfVtJzV1CXkP12v0aFpO/ddIgEXm3yuNb14+2cob6/OwuTYXiNY6QCXIdG2gzbN20kpHDfTaLd/GZkAHgHL7UJdBeXWz4i5IwdmHfapw3ks0bQ65tdnVBeHOZpi58f9cFFhnLhElmlpa0lnIR6hTPf8J+rrZZIMQtqL0qezFEWWSMZRfR0edz3GKU5KBv58y9JubzPX6i5YFnZylCl02qi7ER15GsIXJqlGbtFPEH8/dXRTE2zJDzk98RpLlLRqFBzJdsWZc2utzgwMXumaUNYi6j3EYFf8+iO94xIJ+lzBszhgDOArdCtgoNZLhEKzHhhRfpQt2duxRmm/0+6g7OcewpRweV9KwSWyrtN/Yvda1LXjOfc5LDXtrZDHfo7xmAIaOC13ISDtRmakebnQyxHT99pj7YvHBH6eeilVzcOhXXZf8nqWfGY4s4+HkQ1ph7Sa1hdAawyUZWdWa5GaXGRjfPTMOBaUDCj2fWQb4GZSN45rppaIzzBrFSgJvm41Zv5rowEFcMxzx1eaMpr6gPMdqG88eYbY5ws1rm+2s6sZjPZj+uvkMt4cNaWwtRnauP6xvdAzrhN5VKw8Y5EkKB/UUtKq2DBPwk3DBTomt9R7Yoaj10zXMlMD+VsyIAVy5TBS8bSNtvuPIySJBUsscl6TPKkVgpFYyDQ2J+FOqY3rzhcyXGRuwIJovqsm0202j/XLFZYzLJ04r+yZjUWf1QtxpI9lmyFeuI2xp5FBvpdDQNxU7c3hxZS7lHauBJOXThm3D3ZGmTi0h5h5TuzZcGcgL4Gq5e60QX62ylmnfKeBl6CeBR4u0BV0G+SukvNDfddNNN6MA/akvoVnwBumUAAAAASUVORK5CYII=",
           "type": "image"
          }
         ],
         "layout": {
          "margin": {
           "t": 60
          }
         },
         "name": "1"
        },
        {
         "data": [
          {
           "name": "2",
           "source": "data:image/png;base64,iVBORw0KGgoAAAANSUhEUgAAALMAAABUCAAAAADsPlkVAAADg0lEQVR4Xu2afYvUMBDGk3DnH8qhiN//E8rhoiurYiIzeZ3MJI3idiLeA9d2k8L9+uyTaZqtMf+e7KTPmE9x52HzfnDO+VphRmTUHtxu0sf1/HHSeZoOfa4mJ8edutlTnwky8sJe3eupz8/10DtvDPzh5oN09mlazLNHm9F02DQXo6AZcyHzJNSkS0Mj5ou5pOIsSxN6kOeLMSZEd5nHIKdZq2WfP9fDghxCIK16TovMiNwQRsWvpKKrQUvMV9hQZCANsIVmbWiB+coT3HmuDP3QN6DJHrBKNeYx0VXPfC2jrtxEBAULd8VB593V/eOvuEWbpzrqv6soc0aeWEykE+guG8m/0CZj5Kl3axf210WY0WZPkFVDMBCrG8b4yAnIc2IdlxmzDcbFWZwW0IIIszPemvAzHgN0nkFFv/l8Sic5PBujJxfWjleoobbW3fAj8y5OMgRkrbtK4/Otaa5pzpcQJE91ngurVQk5fGu7mzlz77/eIC0+J+RUNZK6CSm12itFg0cy3r4l9UZrIRef2zAn8UImZvp8JbO+589fSk+PDLz8MjQUmW85xBWZifGqDcLI7HI2C1j7kN2INistF2TYtD8OrHwtpwpZf/RVYOAylVrdgH8MyARhQmzLN6GGnP7zcSSylr6BO6vJcRmIU61f3t1EOF1X6g6qmVLZQObe3/r1q5XgqWwagsG8gl36rSRRez7QmmjoTERxvhGrhqiemGRZDbnORdHmLCvWu02QzYN5hHRwQsuaNqgYUejzo9Rj6YVUYnwi19SsJgvGlhquGI1+rSAiwVMTLm8kp9v7td7jdpGw9kWhmlw3zVq3E5TIDMJFTzB4g0lRp3WQ9TPvrX1I1jVhnnSpxrkHIzCpsLkoeqKmhmMQtRFooz+i0o0GY166Bp2fq4rYdHMFejufV6B1xQiFidFu6pmfsLZ1jZuJ4b3NrTL4DqVaiAJ7dwrfrYuKuO/6M86VcE9hD4N0XFr1lXP5PpioQjpqLsFuMEqFbGKiiWxaWcx7ZU3nGw2hfiKqlmvAPsgySn4lsL50RJYHeHjO1TQb9UuIR9oLG0kD5nbdBXnxMxxtwC3HFF+yA5Hfh9O7KNrROHhOoUMUV2rcEz/rZA3KAf7qHW8l5Yz48Q0793Qt17qNNCq7YPTrclQUm5Q1Ym4ErxzEarEF8e9lYxPkFQmvdrzoRS/6n/ULplvV0cAoV6wAAAAASUVORK5CYII=",
           "type": "image"
          }
         ],
         "layout": {
          "margin": {
           "t": 60
          }
         },
         "name": "2"
        },
        {
         "data": [
          {
           "name": "3",
           "source": "data:image/png;base64,iVBORw0KGgoAAAANSUhEUgAAALMAAABUCAAAAADsPlkVAAADmElEQVR4Xu2acW/bIBDFMevyx6ap1dR9/y9YVa26RFGz4enuwBzHQaxK45iWp8qpsSP//PI4wIlz/56WzjHn3AtuA2y+t84Zrj3MiIyag7vP/OyD58xzUHeZn2UD0HtzbN85JhXo7OpORmu/zykhEJbH8rzB6jG/5CAH53mqnSl0JxtU51CBdUQPf6b5aPv8um6YhcUob1lAGsxvLrjEXBODDMuHno03rXFd+V6wi4fKfOTmpv8KYtNMa9kAl4NbEy28CGB4mzcbFBWfdyBHGTl9Jxswyqzb6T3QVJXPsSHaHHBb27zSzdgYLZmPsOkU5hkkshGRk8vU2EizmUpmRE6Q14hham2i6rpEmicYs5ksfSabw1bmrgAHo+kd9/m04FDhEblTlq3FxsFz5Ay/eQcEAXs9YJrN7Yo8x52qwrUmrE+N9r+sahx07lLsNfOBc38T5cueiz0aAJk0dqNs1D7/UsIBWkVCzMpzZgabQcuFr1a5u6sItnpnIyR8Bu86LKXXVkZX2fjJd9oF2ooXlK6dolFInYOSqj46UNHn95gI7rJmMsuGXR8UF86c5Sq73zpYxPwu4dtsE0ADKg18CI2f/brLTbNo0JUZ9FUfU6LtkOOlCSQ73dG1exqgaFeELoqzKphio0Kwmm7IrlcdF+KfghUy1GdM80K416DlRMlEPk2Xl+VwOICRy/bxK2KHbNaCoJyNz7hFo5dGT+zdzUAlZirJP6LJ4HZ9bmzCt6x2Nqf5xuoO8khMOGuATbpHS8fvMBOXihixCmqgJOLyK6zxIgrKclcZGWUYDTkEPzofBXuUbVLxJsOBW1mnlDRlaiexWfqcH4LXXtqay6Q8k9E1DfFOlMpzs6kGquNzKmkAvOvWRqkH4z3+dc6wkSCqd+dDlkgPuxBt4/wxG22+Ftz0IebJfF6Mx+U9Uginh5aAHr66ggI3MblE+xZbW9Bpymeper3Bfu6VlWb5xPugnTJO9dhdralAyEpPby1XVaT6g76Pk/z6mQGcO8PSuzsXzXzR+wmAGxSvSht/gnSvHR8ozWfEgyAEtsaew2KUxvwp/QPcMfDs8YC1zWoVphpdaoa6nKT3wRgMtoc5MfzulUtlRkhhKwF7F8yj0at11eAyi896OThSc3ywS6Uk3sFX7fyxapSwE70UPyVA6AmQu+PgF9xGfKKnJmO1horThnfeUjwFcIeZiX4PNg3xLqk/k7jpppv+X/0BsivLERirqgoAAAAASUVORK5CYII=",
           "type": "image"
          }
         ],
         "layout": {
          "margin": {
           "t": 60
          }
         },
         "name": "3"
        },
        {
         "data": [
          {
           "name": "4",
           "source": "data:image/png;base64,iVBORw0KGgoAAAANSUhEUgAAALMAAABUCAAAAADsPlkVAAADsklEQVR4Xu2a227bMAyGKSEdhhVFhqHv/4IrgnZZhqBDpYGizqJ8uLCoAf0vHMtS0c+/SUpWAvD/SS30oV7d0QDAj+6Y0VphTshOc3Drhb5Wl8tC5zAt+3zRyWMvo8XNXmS+gK6QXfO5GjZaK8y1/C3IUi8xvxYmFw1R6D7z9SPHNEWUaNEK0mO+AhibMOtMFIXmmW8mR66BqUTKQfP12YBpQK21RVuuVLPM16JV0idwMWguNjCWkY1g8Zg77P6CblUoPFpmjGUwXWSU8tD6e9UxRqeqfXNHhx3PulrsPE4l8005S/s1jmRBGTRaKDaqHAwhYemDzuvQYKJlqArmP/SBCcgbnAmLoVDlyGODYjm5yKVfJhceEqpzMKWej5EJlTH7yMA65yNjhXg1fg5S+XyVchd8qZvS5MLnu0N1xc6vO918k4FX84/Y2q7OI0TM10d9ZAB4aa4MEZP7RUhEUMWsTIQKR/y3dzpXPppDFsYb4IJ7hthwjY9OQeCmQxmFHLy7IyYfWszXOru2HTJI1ZyiM5PtFICMmjT6HU4sG8IzyDNTaKwrvw026kfIx0bYl4suzyxifg/NEMPdsLATpGGMZzrZAyQ0o9A/fo8275DWYUd9uFKtSxty3cCoH4TMa3f+gDc96xlmwxPA32Cthl/9gaQ98X6YNMBDYtlnotASCZnR5yCLii0T3wu9CpulkPP1xhcA+IlUldv8+7WR2+rX0WZEphyLy3uNjwGLmhdd35SrRyoCELIiXu6lhJDxNtzfyNkMJ3hAp5vkU9xmKErcZYpnLBytWupIrI2kzYu2Ze+vao7KTGr2vpz80pR2dh1umX6y3x9XPj9rp+y6z0pusJR4n4PVZUAkZFGbl6yrurI6LawKRGgXfJ+WzIsZ56bDziABdeMZhZzGHSciXmFGTUfcJlrdz0q2bDSQm6CFM7Wekt+yH210NZnPVIc3uS2mJgeV9ZVtg99C2h3PqwOOV43wFCPcLZVqac1fH6omNs5v6TzBTRUozJyirF83Z8qslV/8t8/5DAoXzSj/mffyb7djtTh3ez6/56Fm+YJldb3hld6v5NXGBpzbS6VWBxwszmc3ofjtaH9Ped2QRu7FRj1/M+hyYmIDnsqmfxOn07JLRqzPwdWM0J0a3EISDw3W527fHDZ36tct1OTUH6bGx3b0aPHOPVY7uvu+szha/TlFw1f3ib9TUsHwb53BQ9Wd2+5E7L6+9yVuCuAl5iT6Qdg8yBvXG9PgfupTn5pA/wCbk9RHbr/8IQAAAABJRU5ErkJggg==",
           "type": "image"
          }
         ],
         "layout": {
          "margin": {
           "t": 60
          }
         },
         "name": "4"
        },
        {
         "data": [
          {
           "name": "5",
           "source": "data:image/png;base64,iVBORw0KGgoAAAANSUhEUgAAALMAAABUCAAAAADsPlkVAAADl0lEQVR4Xu2afW8TMQzGnWjrHyCENMH3/4JoGpRW1YAcsvPmJE56lWgcYI+2viRX9ZfnHDu5HsDfJzPoA4AXenQA8NQ9ZrrGzBmZtAi3HfQ1en4edM7T0OdnsMnjIAefqpb5uuJziwxfqqb5GvksRIIfg7LVA5+7yNpWd31+MRsPDIeDyw2qTnd9LgfjwDk+BNUE0vH56ACSz/VERFnFXC37fASALbwu/M1SdFpkPnprqa8l3vxo9KAlZnQZbea4Gym7rwndxvPJISyyIbPnZqQkA2Cd1Vp/PJRvT+x1H5nOz00rlT+q6psr2+Xph4Og1KcUHZXPjDM+CyYrq/KZwthhakgW37gimaDC53MwNeQM/O+4vI1Gcm+VsZESXEAexoVrFteTxJnPYAjakw6Qg8la63/GfE6vuhkuaBsG+d3FmC04MBuecH/SExfBt5R4vIqaypAqSeihii1LCZkxX+KbwHgtQK7uJe+m+nsxBIi2Rhbgnc4UzMyXsr11WYBWUpmfrQP3qxupVSHRCufEHGy29bqZqTFaKTQi82vi/CkcFKVasbPqOfidv2mcXSOmvc+v8S1HXgNQUPTZhtycK4iIzAuM1VmJBmayGV9ZY2LIishruM/iOW3xdmFZvR0hxTMuQQn6Gz5tI+gVMgd69eMGEh7QWkXlAZHRvl0BUfqsdHkjxyTBeHCTZ+KSqq4VbBjaOy1XU5775nA4gCGT99js1EKD+fyID3FFIcd3MRQ1ZLA0BQUJXhctWos6Yn70BtPj50FQ+EFYvS1VEsYG4baS4wOhnarNwjVGplAfwcQwV7eYVAdDWqvFDWHiRUVmrd2rV9e50GF4uk4Hdz81Rf3YoItJhp0JBqqX51ADx6quwZGTtZ+k8zuhgirmYruE+y38a8alGxrjXFeMaP8ZubeukgSzV1KF8yTjWdsGiJ4WQtmtf4HZrBQEHa1P2Epg9k0LT0YpPydoufKpQ9cAH8teUjpoAY9Rjc98dxIQEdrhPSa+X13d2o1rfX7hlgawALDMnC4XVL/ELkIsTKgyoIMMXauRejQkgHxtm0qJw5qo8VrUq8p62sgSs5TQctsCuxUB8EPdUBQ/4QOzJU4sfpddKScMaboGtknDWaISygns5DswLcdnf/AG78UPTFUvb9BYWCXE60lYZd6JR89Vp1DQ/VTIdynzxArIO+rxBe9ew8OW4EXtqSmoZYD3qbrr501vetP/rt8tJ92iXBI6qwAAAABJRU5ErkJggg==",
           "type": "image"
          }
         ],
         "layout": {
          "margin": {
           "t": 60
          }
         },
         "name": "5"
        },
        {
         "data": [
          {
           "name": "6",
           "source": "data:image/png;base64,iVBORw0KGgoAAAANSUhEUgAAALMAAABUCAAAAADsPlkVAAADfUlEQVR4Xu2abWvcMBCEZdHmQ0NpCf3/v7CUhPTCkVKp7Op9tZKdQjwqvYG7nCUffjw3kteKjfn3tE36jHkynv86Yx6GO52uHeaMzFqEe878GP4k5kWojzAXZBIee8pMyC0wbX6Tu52tHWZBHM8BTD1j/tG1pFPAQttxVxyAQc4Y5xKy7c/mTA19fjK+DkYTEosdiTrzM0FWzCLW1lkktJoNRq4kRyJtA+MxyXPsKzFuhYPWshFs9sHeDBwu4yz6EjDTPfNzAPURNzFXyPwtYKa7bFwa5JQLL5GN61J+miTzpWlRifvtkyWYXyJnSgYDKoRQ6Jb5hd9dg9zskBRGIWjqaJhfImEV5oGh1OxQ890H2RDGVnzNI4AahBXztcQhYQ+UJ0hMfVdloy8vRjaD543KZ2uc2bx1dL3gQij4WfjE9Yf2h0jMdZ4HXs2CtVRVwxw2Yg1awDc2OLzLnREqR7427fmineMrDcfdzXZuOWbbG4VQ5TFYbB5VP16MQodKR3/cyQBsE41Czj6/Mqp15vckF76GhiEn5te4aX9qO2XV0A5GHY6bkM0cWUiP/ftL1Eg+ZXZUz62QDj4u2RwA0oVjgNx0oJDFdTBGY1IDzdd+z1Fhtm/0zcKMpuP+qj7vqf4JoGNwG+dXqs4GaHmDvCWb26JtHNpxz4lS8zB0vUFG2WxsTvN2d3c32EkVDDn77M3H0jhIgKz6UcrZaDzeFLzcFL4CqvdJBELpiC5/r7raVEdiWg4F3qKwaK6rUlFLmQHtsUn8ndWtI9XaMjS7XOEibZbM4YfPCtBdtsFei8M/UN1h+cVi3Og2mLRIzQbRxVWi4vEyyDOSSRfuekISYM2C8lur07M0x1qTeg9qjRm51S4QzSKTboTkXKfyWZLWgdFCKIclmbcjJ4Gd6nqfD0Fj1RH69ePS+8ytS3Nr9UYoNwbLFwucTVdnxkdEqyUXoqw/m6/NF85Xz1zdnaj/fdiM+aI0nygtG+E8vJaDJe68FebIteViP39agljFeOqbhMDZ+JtpAIw8nOtYebbjf9onoZE15mJ9/wm15NxIycZn2VBVoktcIGfZ4Kc4mjZqgUdD89ncp77uFmWNOy19yqWHGaPyBSYqnRBQB21bZemZNWBho+8v9+VhsKBPckeERv5dUgiueYJbgpd04DePVi+DfETtg0o33XTTf68/qqvc1JGQ6V0AAAAASUVORK5CYII=",
           "type": "image"
          }
         ],
         "layout": {
          "margin": {
           "t": 60
          }
         },
         "name": "6"
        },
        {
         "data": [
          {
           "name": "7",
           "source": "data:image/png;base64,iVBORw0KGgoAAAANSUhEUgAAALMAAABUCAAAAADsPlkVAAADqElEQVR4Xu2afW8bIQzGgbX9Y9WUqer3/4RTlSpNFbUTN9kYzoDhWLWcmZRH6jUHRPe7J8bmXoz5/2Q7faAjbr0x5qk5Zm/1mV8X/AfIqDm4R5gT8iTUXWYIDO8y5hmwXacP5I0vkM1Lsb+7ej4f87Bg0rW657OvLIY22Opa3WEOaY4U6V34gip0OzaO3OTwmZ+gYng0mE/emGWFTp8YtR60zHwCysQsTERgV4MW4/kEm1ACm2MUY1ryGZD9Qv5Gk9dTwO/geSg5XTOfgdKbhWjDlhGDLHmvA31X7J9xC8hBIrKy6ljlM4+KSoUcfwQdFT5Hm5nm8hgk5QTIcxtGUr9O6sh9fg+mUs5ArPlszpjfYeMTLvy1iC0urJXEDnyJHxLo0jXZGz9HrkNlxaQpNZ/XmnKhaPA+TLAieVTFx2mVlMos5K0ttuJa6pfUeH0l5g/a8XwNuqHnTt8VleKZQK3jywyaj3YRFiZ6eaOagx5sLpwG8GXrjtN+imalRAc+jwXH2KgriJgJ2RnzKQ6bqiAWQenMb25gVlSWosSoxXM4cIoMqN9p+tVlMGtQqoKVWW9/E6ZK6TkyR/TVW3mtkbVqBQfmug84fvA3ZjSROJcWcuvAA8h60HlNecNtD3itLFrEdGQEGWPg5zM+W/+twOdPY4EFoDcLNB8wSa4DzR4aqVoDzMPD5vUUl5bNxsUFhjUPuCC2oFaMsGatYM6KCZgc1YAOjfQVNZvXsOTIoBoar6/SeKVrFJAz5h7+l8gSNMq5+ExFTXfmPkDXwgTId3WzxaouRLTaxgvvdbRiaMj3ZIAt5gVkJfiE7PQmYO3zs0PFXUh786kZG8JEa47dWXJsSOLEqqEx5F0YIzz8VlLBzG/cxy43dGI7qocDfSvwPODdeA7QuPHcbd1wLt17arnZatfQl1h0HlcllcxDNWSu2DirL9oGVBBOk4N7Kph/fDXE91SV6+wSoUXPoU/7x6jmHL0iivIVIp7OT9agodLnV3zgQwqGE3cMmaHMclWVwXuguwXFyjmtqWdYUJfMTICXI9KJvFZD91XFfGDxzKlL5xUlcGzaeOj07aFObDDBqHkKpLAWhYvukg/36fmFts1i5sLXGJniCdAbEurMrTV/4AxFZW3z+GhZW2IuODXD3BuvbnOjqoXX7Ej5fbtH3qWjzfsbsyRlpgYSGv1ozPkbi9/FmmUCm3s+A95jfLUK9V0euLe2f/oLMU8CPKT1PYmbbrrpJnDgD1bf3faqcKNUAAAAAElFTkSuQmCC",
           "type": "image"
          }
         ],
         "layout": {
          "margin": {
           "t": 60
          }
         },
         "name": "7"
        },
        {
         "data": [
          {
           "name": "8",
           "source": "data:image/png;base64,iVBORw0KGgoAAAANSUhEUgAAALMAAABUCAAAAADsPlkVAAADrklEQVR4Xu2ab2sbMQzGZa/ri5bRMbrv/wVH6AgJ2Qa+Icl/dbITBrE8yPOil4td8rvnZMn2HcD/JzdoA4APPgQA+NbrM11j5ohMzKg1uIfMEnkR6iHzATweKmSUOTZB9eQ9hBAEMhzE+XSNfD54aXGSrdUjn7vIxlYPY6OHbAw9iI2Pghw/+VAu0TA8OszHALBlnyu/V4BWmY+EmZmbEFkAes98IsQuM4nBraB3Y/BEXzWhEftsW+7ELalMzpb0+cQ8AbZERn8LbvwPvA4PX9t/niTh84kPA+TK7mCDXDOfTwm5aFe4UQitfT9Ljc/neEyjsEdWRbaFKmbvOFZDQKiCu6mI2G5UDdXaHYMZA0MHTrKBrpgRM6WRGBgasANw2A272GTowlyCmUEpRS+pwvxSfWuZFa7rqXz0zOoLMIZA8roUn1JUbEKjHYM88OqcoSBXfY1UmC+dJMLah7YddBUbWVU1Kajbld2biWqYCZYwFRN30GZGZ+ZLGn51zW4iYru26zRLbQh7MQESjOL0vT2dpuQz2oz6Vd9zOfAWienInJCbNLcG4V45Njx9SgWcTN7nt1Y/Bm33VPSZlko8wyB3O7hbE9KDdH5X8e/+5s+eZ2xd5FZWyOTzn8x4HJnciNewNuLfzXccb/4IeYlh2XpFSCOusuY2LIQeQyOuPMTsU1NzPUZTUTFHEik5yPuwhiqm5+fnfXvoR4CVzeApNFJAfMc/KU5yD1XBDDnFxgZQmdzJHUskDWZuixuLqZsHKotM6pLPyKfEcj8wbPUEn/UGJ8Kj2FwtzG2krQdZrsnUCTkZbxgaA+bK6+wxE/tgiiwD9t17Dx4lO6LUL+dL8bki62RqY/buz+tOR9nVE5SxZf8kwVxvgg+dttQwb+DzbXzETQl5nSsYk/hrHUwkfNZrnOS2HYIS57anlDaPfrKkhTeFwlo+g1s2WxQphEPoFS6pg+AHBbLXME1afkYqr6cQarptoN5P0rW3am7PMzzRYQHtfa4WKMSb6mC6PPuVrBYbtJnkYHNbvAAMEya2B9aZ06YdvRoRoesmcykUP8W5XGDBm+gwW8N5HWsNcytpaeFKrrC2ubMe1KGt9zWStBt/FOd4BZGXDtZGd+I5GZ1fxI3cuINnjawPsGMvoANAMEfuJAV6N5BTs9jXDV9k3/kapwhSs4e+AHKH+ZUMfnXgPuGpY4Fz2GCuXsE4OXoPDJ/d5xS3LUF8S5G7IPPLuXmXbXXl1yQeeuihh0h/ASNn4GEwDwrmAAAAAElFTkSuQmCC",
           "type": "image"
          }
         ],
         "layout": {
          "margin": {
           "t": 60
          }
         },
         "name": "8"
        },
        {
         "data": [
          {
           "name": "9",
           "source": "data:image/png;base64,iVBORw0KGgoAAAANSUhEUgAAALMAAABUCAAAAADsPlkVAAADhklEQVR4Xu2a62obMRCFtSIxpSW0lL7/C7aUuMbBNEQqM7pLI8kurI9++BC8a0mBb2ePRrPyKvXQPbQN+pR65U9DH997Y+6vITMjM7HTItxT5gx5FeoZc4m8BvWQ+bfYCqceMZfIPuIaD30lc7SI5k8sdZ/5+JHOk6sdMxa6w3wyykbQfB56Zii0yHwiThtY3cH6sQtAB4RKGXKS5R5SN6fcRUKcTyUzHxg3G02XCot0G2dCjpAlsrLWnzX34J5qmM/UQkgdrIiNc0fNfKaPhMvWTUFPQlq6Yn7zR+/mmDIKxVCDoFs/mzppCFHGOrrIG2/EZwg5hVkmpn+D5Y48zskYE+SNr9SAkHNmQs7D3r37cRDIH09Ni5lFWdnNjh8jd1bLrA398dFF1G4BPZJ6O3cW/r2VmC8+vCYVdCzbiTZOMVQXPh/huZm3gCpvRBuEWGcXYZuCCpM2Wks6a8gZobgLoKRRM/MXyhuRZzUrswLzxR9NWFAWlmf2yFp9FMBLhrmeg8QuTL+gYi0xoPQcmLUnnZZzK6iKVaiMewtJfEhBiuP8N8K7e2+3fpSxpQaLUN+rFW64WqehWh/FEbuLmBPhH3GMLK3U10H3jmJLlGEdWzZzNCqPk5+3rM6YKXcRqNwg5vduZwikjrkYPwHLXHc4HKRo6151jwqzeirCzGHcCkszctHvBUMOQFapg1Lqh2+Vy/uiNQwFSIcwE3KmFjoSo8qMKP2snpMXfqYOfkzVDR8cmP3M0ILc+t2DBlpD2CtIypK284Xn5a0EoCrf/iq/EnRWYIQTAw1zfe89S+ZjaYXUUOTGG1T8073XvApSjJdJF1EtiS5WEd+2EnKNAtq5v02jvOHFdilacMs2a3bLuxUSUIM4O9LFeEkLIk31X8zgmVrXb6/XrMuLzcGtLeWW062Et47fQwLDEOsa6+wtKdc5aJmO6hCwnZs56F8RJRkdd2sjPzV8y4cj1DAfJ/tIakNteUUJ3uDLSD9kNn1o5O6E29TmVLXynQCrYa6jGKGbC4BJwJjFcVlvBM36ERJr0ZTkIrRrWWFFEZmLIp/O6Kk2FNMrUEvTit8KFE1BvyvD7SwyE3THx0a9yB33VOfZipB5H5quKd+N/iKNvrPEeL5w62QNx6mzTJx5K5dPi1n3uR6I0Oi5+xO/bZByxRLA/Thn8u9WrQJ83T7SSrgPPfTQAvoHX/zk6+WenmMAAAAASUVORK5CYII=",
           "type": "image"
          }
         ],
         "layout": {
          "margin": {
           "t": 60
          }
         },
         "name": "9"
        },
        {
         "data": [
          {
           "name": "10",
           "source": "data:image/png;base64,iVBORw0KGgoAAAANSUhEUgAAALMAAABUCAAAAADsPlkVAAADn0lEQVR4Xu2a3YrbMBCFZXWbi5bSsrTv/4LLkpBmCS3IZWYsaTT6SSjURyl7LkwiO+yn46ORrLVzj6dlcM45d+RjoMNz75rddT8zaQ7uMfNppWNCnoR6zHwsgUnhu2nYX35wjlQhu9cX07S7hj43bGaBAzJiPlpi+Uq3Bko9ykZQyIHEn/gXr9XFO6rn88m5VSPnj1svgU63mc/EmJhNQuDQzWycW43rysU6CRePfp5LQrol2z2JwYZBP9VNF0ZKyOkbtywrkYdbZf2fqsrzhSADEYqbZQdYS7w9oEhbwy50YOShmlPNXqqzUVQL+WI6QPGgE6iVh/H5jQ7W5spzU0H2VsmskLPNXUBU4dBj8E1gQ0QeEdPvPGgQqjyTyct6HzILNRAz89UgDIsH3x6PsbmqdUsM8xCZBZtXVDb8drcXZvUhZ50aqskHhlzUZ17M5Rkwqm03Drn4057Wn3ZggWtxS8nnKx+XDxLlaPV8wPYW8xe9paGQrd+oQqeY2eY4A8aADF3GQRuf16BZbmyMobQxS5qdW0JcapDLpc/m4QpXOMq1qKf5Oxk9jAbwWcWsn1UwxsRIiVnX6Jnc/7V6yE6n1RfYIGSffxG7zNvS2veYH2FFsGzwH5ZVmnP+J7f1iXUp8TBoyTMvi1I+mhdOJAL9PThvpRONCrQX5LhHdFvqQtCSf5zJYlIUTYCsmQ+Hgz1bQ+dowJCdj2nmdPAuSxGTxrMXXGkeXLPJxCXPVy4UM7QGRm0i6QJnclEPyiU25VU2SBvzhjD4N9o273iPm0uintxHqtDV6CPI1cZZ4f4oTuwrgSBuUhlSFY/76/cOauzzS0+oyMlOR2JPJnvsP5ANc86Cr6YTlRNsots+kwhaJ0Jz4uYTEtaxv9N/xjxtd0Zgcfqgg5+oB/0xSOrMedgheIN500QekybDuUuG+fkR+mAYz8tMg62j+QlrGeYvj9CNVt1I0I0NDFqFgEtd/Uwqb4hmKe7Yl2/mkr1lfab3vYqGbfMxm49f/dvwfuWH1Xq7YLvOnMKoMw/G7YLyoXACXpL1mYzeJH4nziksZjU4TnWTVu4USpXPt5AnUN/n3Ju0/yUVBG50Ywwa632gVTTjxrclwGqNK3ldtE4N8wa4zb1aVwNHm/HITZ/dWSNziU76rD6j1DSUVnexP7pTk1To7vMgv8ga7G7SDDa3syEv29kl6afGZRD1mEXyikSYiJc0ZhbsMBXxu971LrT+AEv57e9Kbt7YAAAAAElFTkSuQmCC",
           "type": "image"
          }
         ],
         "layout": {
          "margin": {
           "t": 60
          }
         },
         "name": "10"
        },
        {
         "data": [
          {
           "name": "11",
           "source": "data:image/png;base64,iVBORw0KGgoAAAANSUhEUgAAALMAAABUCAAAAADsPlkVAAADlElEQVR4Xu2a3U4cMQyFnQgQoqpaVe37vyBCILpoVdRMZTu/jhOGix2n0p4LdjYZxDdnTxzPsA7metnoJQD8GJ5ztNxkrkEmrcE9ZxbIi1DvYa6QUebYU+bnjpdkDe0nc5pCAHh6mpxwgD5gFjYH8PQLttCzbDwL5PiOqC3zMfF5hmzq9NDnF9gq5po+Xqad0wPm1wCwJVAR6vTRmEHr2Xgth6ErdwFrh2U8VOZX5OQtUK/QttA3yhi5HJEjcbqAJkpW4eiZTwFJt8bghMwHDiDomTpGkvmEqLJeZOQ1JJhP5RBxdeQNjRZjR0rLc8ZEMNVjpLZTx0y1rd5OFBlnpVlLbzEaVc1Q8aLLK9S6U+zwY82oarSUaTRqn08F5QNknjArd80fZkYO8yzQxnmussEu++DYxZBGNhro4uDN9kH5AW+h9HM8sAE4Lb92Fbr4fCYOF8QH76gW2y46ocyMyCSORtUc8fuFqPvFz9EQ/RxnZBEl5mwzrj16IoCacobHyeQlpezde5eXN64b0WYP73/TrRNswuYmHd5uS5E+n9VOfzEJ5jlxaUEtbZZ/OoPqZSKPBmxZTfu6P9nh/VXY8Mk/MiMy17jfcVQ1uZVhNkqevbKRdNr/OVxQZFciMfTuM/IA705v3Obat+9cRNFajIPyZE68b6IRrJZgYkaj7+/u6bjEeZqVn5O5y8rDOx+4uzRUgiJ9/nyCLqJsJbkbvUvUwudm1M7mjLVlm0n9onQ8lM+X8wfKA9yqE8Mc2BfEG7gdQAul/igi/1JPOkZdz5/lSgAWWXtJGrMPnkuG2wQum+whGK7AjjlBccukErdHFhpnQ6rmNNsCSUPH6onhSTbag4M3Uvy/+Shbm0U26rsl6qcT6Z5LO0zTPC9FWrQo1lRX5mPUMhsXhJ3q90HDG72d0tv6tfU/5lka+8wv+F0HNSTYO1mnXvpcd/bY3lV7Nm3h4M0elWdN9sH4vDY6jhdAA/aRlz5/o5+uRSNenuhvbo+X4jNSFWj+p2waX0Jd3fgu0JKxKxgcpZC89EO1OD2W6rPByNn/UvGwzMWbW1sNfB5vNcHeaPVZQfPCWsDeLG1l4fcYB0YHgK/6zIEasJGo6LX1YtU8o9HNhtc8A/3SnGki1Wfx8dfXtQDyaHNL3wHDS6rT8NCdaaBRj4TID290yI/uVgEe+wzw9gBw5q8MM/MqxBNm1vn+DBDWwb3qqqsW0D9rN+WYmW+EKgAAAABJRU5ErkJggg==",
           "type": "image"
          }
         ],
         "layout": {
          "margin": {
           "t": 60
          }
         },
         "name": "11"
        },
        {
         "data": [
          {
           "name": "12",
           "source": "data:image/png;base64,iVBORw0KGgoAAAANSUhEUgAAALMAAABUCAAAAADsPlkVAAADtklEQVR4Xu2afWvcMAzGbbcbZWN0jPX7f8CNcaW742DMGZLsRJZlJ/3jLHf0gebuEh/38xNJfkmde3vynWugEx6jc9+aTYZrh/l5gWNMnybh7jOfNl7SFNR7zCXyHNRd5spmlDl1j/mkAIOsoTvMussxmFMDga7nAjk6F2PMJ37JxkPV9BmqXEZk7CFSNy2d1pnP4OiSUGWA0K0xhFaZz9FFtxCsJCYFS2gtns/AiQNgU9Eypu/rU4AM1Nzh3APvFrozuv1jVMXGmXhzBhLbZrpffKJ2y5P46ijJ2DjjcbVZIsNbRA57w/4NVcdGioz8vorsBWEtY0P4fEmvVDQ05N30vL2Ez4ADZW7zsQ3YHkJvrCIoLwib86/hcv6SXYlmPl/I3yJSNeTUTZwsmajKwWIAVF2mJDQUMysBdsdsknESMp89jHIwagTgxUMePbTBxyw0ODNSrj5nGXuqaWO+InQVEq3YtbN5Y77i0YdUOKr6bJx3XIVdwbk7elchS6VAMlFmJpud+4urk11k0xmHrM/NOpdnoFn28bzaDIeE3PHYklj6HK7tey6NtpOIje7ox6BNd2aI+RoErT7R4NCG8UE/HI4RLEVXrGwGn6/Iiz7/xnO95Ft1pI83Evw0/nx4JYRdeeZREcKuzXOUjqJu4Ey0bqPLLJzTPgX6Rzu1vuMlv/RduT5I3v3B18W5j879KC/KJV/RHTvoFBtrRADWFh5ps1mTHXJm8mhzctLr8ZHPNrsxSglgYcjbm8CHx3wq4HcOp+oNlOsGIjOl+iE9XT9b7YmC7t0H9onNKHANXsluI4ZJ2TPP4tSzhDJKZNtPfC4Vcxwj9NZkRY6GVaNyLuC8o5zmrW5v50yR27HB95HohNLIRvOQHFfJzJ+fdXpjNz1CdeoGJCL9ma6kanWY+YKg3cZAc9Ec09tnNlzkvUJiHDz04N24bMgcvOOPBmeVjGd1tj+ZlFqXujGv3cLnx+YVXKLAKsVe/XEQCUvDw1fZbrgq3+qpHHlLR+/9i/jCeEnmR9hLQhWNUkzMkaFKbCQwn5eHS+pZOm+fm1Vs8HAlSjJ9Nd4+C2sCNcd6u3jDdci1osJ9URqMlVrrQrWNkT/bB3NzHExFrtyDAV7LR8arlNiAm5+HPH6ZynTdfrg642AlXBiy0d1Kaj14QTuhQG/X087MZ6X5aKn3ei0NrMRNVO0aJGe2q8jS7lPV0EJN9+i/MFmNm4MXtHPH8/9IPFzmQd5jJuqHznUDHah1kxG/613/l/4BilbhZ5P0K2EAAAAASUVORK5CYII=",
           "type": "image"
          }
         ],
         "layout": {
          "margin": {
           "t": 60
          }
         },
         "name": "12"
        },
        {
         "data": [
          {
           "name": "13",
           "source": "data:image/png;base64,iVBORw0KGgoAAAANSUhEUgAAALMAAABUCAAAAADsPlkVAAADnklEQVR4Xu2aAWvbMBCFFbOGsjE6yvb//2AZDVlCaJk07k6W7s4n2YPFp0EfbZ3YCv38/HSSFYfw/+nQOQZ6xb8xhOdmk921wnxKuIn0bhDuPvMpCOZBqPvMrww3awDqLrOBPAL11DlmI4efxr5d1fYZsyyY85vJ2+oW8ylI5DjRmynipXGFbjCfgTdVZuG3N7Sd51Vk11CbPiNySDNp3qba2Ndpi/kS0WZCtSqHM/SnxZ4LYEIylMqOtSnK3aUBLuRsLGEuwaiCz0AZ+S4+uZ+Uz4TM8kAvF6a7iteNCyDPQtjYRM5HXCR8BuSItIJSI7MC4iLu85fZ3sRK84DiPlMysGTUOteOcm96dVexf3ytV7xXmkM45IZeY+GiPpcxe8SKQdIXWCInE5l2ukWDV4AbYP5WPhendalwnEUrtxL8iBwT8hzhIvicV54r8w1fl1FwBvctxaZKH7zh38OkSkZOhh5G/MLM/jkiTzA5MpIhX4FchxxpGECXyURqlA13ZWZKBtQNbxM3iJgLMvM9qTiM47kaBwG+aXNi/RCWDAapz7EzMVZG+yWIfM4LLpXEDkIao1yDz2/F71/Ndoa8ogE+vyE015bu5jiqlD6YB25QB3mEaEi7/ioafpqEd+jwlmSEEN3iHKbwXqCPmlbXvXlGChfHa0FmzsYBYY7hB7zh4I2O5leaUdM7bhgonQDJGa6hOnYfa1k4mLd886nkyZ+fiDkRctVMLXaBGmnZVdMDbSXyeiV27ILgc6bWOkin8RxGcBkoGsjqXlshe9qsnFMoc5fMpaS29fVbxxbXLPRd96L7+Y2BIHWfQssspZrxM/L1lkuS1JWhBSHf4Wtz2z11oNnOQW2WCY5N+XcoiTy/iEMIPZTBWQLJtepul/C5tTg7mNcC53nbfM25bIxm4SbJMeUBBr5tZjtK+QwD35r13tFQgE+0D6UaDiSNVmcYLWh3mxfzuvyAKNec73wS3xYN9tbyOZmF8iyPkFduuXbRwmf+FRUskgvf8QiF3lE6tU+J3VLBK/52BJMNZiOucGcFt1eDEBvMpjiuezTsPui+UtSXccHPy11McVCfSSU28L1azF+EbwzTXWV1rHMDjKi/msf2VMdnKs5stRHOJPojm45WLCxwos4NEA0zG/jUmjowmw3P4HnLZg7hShuyNXfANARxm5mwWekI4bPdbH91mEHXTB2HAV5nxocjHm+PnRYD6lafR/nQhz707/UH6P/n3OYzH8AAAAAASUVORK5CYII=",
           "type": "image"
          }
         ],
         "layout": {
          "margin": {
           "t": 60
          }
         },
         "name": "13"
        },
        {
         "data": [
          {
           "name": "14",
           "source": "data:image/png;base64,iVBORw0KGgoAAAANSUhEUgAAALMAAABUCAAAAADsPlkVAAADmElEQVR4Xu2afWvbQAzG5cMphTIGZfv+33A0ZClhg/PQvUon3cWFxbo/8kATn1/wz/Ij6ewG4KkjtAy2AZxhAx8X33v7HK87zAU5aBLuIfMHMORZqEfMHyCYp6AeMCOyZJ6Aus9M8q8ojJ01dJdZIueRsw6166w/N2Pv6QX8arYeqw7zhQ8ZMC6bQqveuCBYtYbIQ7xQQ3tocW6QpTDshpHu+bkoGXlLqhvsoFe5SgtzYcWFcb9/vNrzh+TzAFtETuAkvPGYcHusLN1444pjRA6jXC4E8sDrB0jxc0AmUNTEZWwJzfz8iawlykkN8QQifr4uG8YP8y+GMRYMeUw8yK6FU28EvEqLH60vUEu8Tjt3KH5OZg7Icqt5pZPM4wZIdbcbPUwkB6NL/bK5AI2f/ZjaEbNz4+LW1Lkp60ZlvoFzNLPykhpryzDXk9/C51KwMzKfGE2hzByRHXjetaMzBLVpmHMORmTEQ9hqkAy7cYd4U+h48j93GTR/GLXBxFysEOItw9yBNlJgJmFmdY7PlehoX9t5kJD2xpKKp19fdtgrwA2BHZkcZbXQNBEts9CVkoEd5XdnryRe86xSEBy8fiViBPorh/1f0TMzCrX7pamzsRhnsgZOlDTiWbTmSRBClq6n7splmIQr/JUr8cFQU3IG0vof+i5HKEdrA3h5+VkHQXoJjofYvfqClYc551iiZgag1dmw0tEcfBlurch2Ps5Kc9EtIpdQSkcTL1srM7RRzq9d2JjIMAXBneB0Op0SMiFpIYOwv9trhVNny1Lrh7SyZZjbd+b4CBtfb6DQ1STeFdk23K0FQtkl2EQE1LDQyYjFTqGGUV1pIk5Smts42WzD3I9eu2GeMLc5SEQh/UzIO1n27XWUdtLs3O0YMZid80vjFOTM1jA7NdVN3ynO/O7cHNOgoXjvvqTXz52nqihzB/GofitTez3cc9yDdo50rg8oGGvyH5bE683DLPtgfapKkOGrPsxOEGrZuxd8/dn7B0p7W0ykzDeQC//ShJ/iT4EsbvX3urjEN4pL/MavOZAFM4WumgY3SDDr0FXygMMl/XzOlaIUOe8s34JKKfe8+d1lI3/nPhyg7nOKGlg/hTe03LoErrbOoTy2d3P14hyvJV0RaY2jydNRUmvYVa7P2G/Negup9nzrNrwZkHtwn83VxB8KTkE8mEHceEn2sE1CfG/WU36KAq/qdhuNmTP1TMRPPfWUtf4BXgn1vGwnqyUAAAAASUVORK5CYII=",
           "type": "image"
          }
         ],
         "layout": {
          "margin": {
           "t": 60
          }
         },
         "name": "14"
        },
        {
         "data": [
          {
           "name": "15",
           "source": "data:image/png;base64,iVBORw0KGgoAAAANSUhEUgAAALMAAABUCAAAAADsPlkVAAADkElEQVR4Xu2a3W7bMAyFaWHrRYthw7C9/wsORbMuQYAB0kDqjxIpOSsQUxc5F3EkO/DnY4qi5QA8dIS2yT6At7jxAPB9dMzxuoUZkUmLcO8yF2DSEtRTZoG8BvWU+VXtNad2k31pBPbSr+RAjX1+804ERpat1UOfT9vkFthaPfD5BACh2twYTtdi6bTK/E6QlVnEiDOF1gLgTJ+htAUy9hiGh+Lz2SNUKKxpU64Bf4KXaub0p77jHBkLcvyspgOEDcDPcuS91Z87xkUfDRy5yCw6Op/PlVdGMdd8732l3mOMZh7Mnc3UdNMp9K7STryDvFML3l/N+S9x5Pk8AOX4I8Xf2OXoxudIh6QVOQiX02XaRTRnzjkjUepQ1oGh5Wd0exYYRWZDkDNfkTIAbIGKUEfY0dYg7bVD7k8dPEsaMxkiM5+vEGv8Eg2MfCWX2cmv1CA4XmhACCHIqL7hTtxP2WdERqkzN0IvkC+yks8ZOY08X5CzwwshJ+aM7MDj00k1uQRFFx1rxHNSy8ZaIqTtRPFcIiN+E4ERGzw8TGt+ZK7IzdBrIFcS+eWc03zry2ae87xhunPZZpW6U3cRRqUoxkaGdQC/B0clbRXagbNCbvMGy3GibKYcXSPccoWjYf6TvyCwhF4kNLrnlP9IwnZDEJm3LT0uPZVePcvlXsoyduEMDv7iBnGe4GfuvcFvW59Rgbu8VxFRbv4xOeDOap8HC+s2WiGwro9QhZnbjGK5OLbjhoAN4wLlAD7jtkfWlSZLZxoafeT+4o3G6bzqTPKmzMr6RlEJajkkLZF7ZuYkauP1KBt7tsNwdHbZz3vs5hPUjmPV5p0Dj1SLwko1vsN1C+S2Nk/sK3vwy/gwA03yBi51EOtSwLs8q9FGrUk110eYjYfgh5it1TJbO3iblLnbuNLcV8eMVXO2XrLHFwHmN6PPz82yi4/8CR4fXJe4C32ZedIfX70rK6Hf1AOOlMgbeBF58aDK8I28lJy7I+42WDCQ5f/xmtiHazWt49R6Vw49Vj3z165dl5lkwFhJ+CyhGff8xhwlxTv8P6Au4v0y3H2UtPpZWJle2a8ihVnSLcSLUmKDMkOdQxr5pWPDiRU76l1g6tbniHO7GsPZvb3Ng3nt3PcX7Je230T68HoZrcWsgDysHy6xGK21KDm9BPK45rkAPNc34fg3wTWAb6jTErV/Hh2wpK7sbwcPPfTQQwD/ANqU3Lv35XOMAAAAAElFTkSuQmCC",
           "type": "image"
          }
         ],
         "layout": {
          "margin": {
           "t": 60
          }
         },
         "name": "15"
        },
        {
         "data": [
          {
           "name": "16",
           "source": "data:image/png;base64,iVBORw0KGgoAAAANSUhEUgAAALMAAABUCAAAAADsPlkVAAADnElEQVR4Xu2aDWvcMAyG5ew6SkdZGez//8Ex1t1aSruLhyR/yrJzK1zkwr20d0nskCdvZPnjAnDVVbrcoAz1i79WgG+9Krtrgzkjk+bgHjMH5MQ8B/WQmZEzMMscexmUkVaJDD/lgb018vnRtyazbK3uMx/h1CCv8bGYQneZj7AKm+M2cVtC95iPUDHXfiO1IXSHGZHBd5CZ2g5azxuE3MiD9+Djnl36UH0+krXC5gRL51iGh+bz0xg5ycrp1ucnYlzBM3IAL5HpHMPscZAH0GQErXytTfaInVL1/pJXfkJgQlYaYZI7o9O/nMSlyeXS2F4sc4FNRAvmHN5VNAtRrdFzuKxq5mf6zDRbXDZtsGJm5BwMjNxGhhYrO6rMGy8AqyMgx1QLYTu947FrhOLKYTdlja3gMFHB/JK2InI7R8miE23yRtOnkLfEOqXHqMwcbPZ/T7yRkb0Sz/x8JsgbuO9oRrXWYdEmilHYXFrJ59cA0aQDr+Y2u6yhXBtzdHlQz8WWyDH1vsYADt1KfPIFcR3UAdokoMO1RSvbDlauYYIc4vkNe74FVviDd1FkjKImjZqTLIOjuvaytCwOwLkAazzOiCKf38ojRVwgI6WNwJx9tkzPfPHC3CaSiXMSg4MQ94Sg7OFS4Hsi1XG3G+kFRbGxELQH+N2vOJEONIoj6C3FaLZMGaQSwIWhfke58Jw7vKCWjPL55qYsafhl1rBKG3Ag0/C/As7zq7wfvhl4XcyQmSAhf+/Wi8gxlgyR4QCfqFORLitGs8xbYLvG+CNkPpIc1ZW8djY380HEwn/iTk6HDkfUtZLwuZhIE3UaaqAmsVl6V6BQSRzRiW7dVn2fRd9RE1vaPPCZC/GPVNczlWiDYmGIoWfT+5BMQ+OdzLYSzB/iFgTkw1SNrSOJ6D6A1ZJwfmJl/dn5gD2YjNimDWXNPA6M+McU3kz8xUE7Kev8ldh0XA+LUWMfPZLgvpr35SxiT5olx/wAjzwEVScprId+0S7S/XMOFxbb+6H1Rod3ZSmFS0Mi12Pdr0qFPaX4rCGhvZrtJtrKG63sW6NqHr72tfAqXrHqn2DvmxP2Vc9nGu0TJaPm/GyOrPucXpeJK6b0GS2flDlDCyG1OfOgDYoVGdpbYDVH7jIjZ/0M3DQ/q/SSbnrNR8h/6RTsqEFHgdh3L7fPVQu869ffTQPmoPz6DADctuX7a5s5QU/BizqDmaGnIb7qqquu+n/9A+Uh3t/ekabSAAAAAElFTkSuQmCC",
           "type": "image"
          }
         ],
         "layout": {
          "margin": {
           "t": 60
          }
         },
         "name": "16"
        },
        {
         "data": [
          {
           "name": "17",
           "source": "data:image/png;base64,iVBORw0KGgoAAAANSUhEUgAAALMAAABUCAAAAADsPlkVAAADb0lEQVR4Xu2aD2vbMBDFJbGM0TE69v0/41gXWsLK5HF3+nOSTrIWFp0HfpSksmzy8/PTSXZizKlTsuygj/RiNnjz8PKtu9dKzTADNCKj9Ln3mK8AWzDrU88wQzY4szb1DvMLvFQ2ozSpx8yALBHrQs8wS8ia1EPm1mb418WGFvSAGbPMbWbsxK0EnUzrCOeTVoT/Xe58tPrM16rtsVJvG52FJnQvG1fCismg12S6TSerEY8P4lbwOEyATEXL76XqcRI/mcWC2cyQcWbEjRrpELLxSog0aWfm0nM8Dk94fTrabLzyRkLu1A8VNdlgyKw0y8idCfLRqpnf8sZUM5TQuhLHoAfQsszJ0jmbivktDko3B6RyDcq6ccvlYsJnrWmlqBu3WNT8lMlaqmodRQKQu8vmJC2b5THIcffIFcR9vuV/4wx4QOLC519hi7Uw/g5JS+I+h/rm/O+w4aDc2ed3YdtIc3s9QuyTmyXe2ObQu75sZOZ3XAc5dg55gQQ9B1rYhTzHYODdB66TCDmQIrTdrNn2npWtUJVKZ5xzLBMccYO/I9jN6oZNQAW0cH/CpBBn5nP00P4UdqMeYxmyXt3IPlvytDKSB5j3qi02BLds/SymiEYzAjVuuyPzhd74tUf1wqwXDOHDL4FeVFs0VLMRUC9DjCMU52qNNLIY1EZDxebMvEku8jAcxGTO/DFtAhNHy6M8BHRs7hWAsFZq6sgh1GHO1KGZ6btHLJP8/BnlMCG10wxZKRpj1+pO5/j62vyouldJYGabeK9r1q1fy/YyCdngNQNua134HmJ4SVZq7HNoirRqNks4o9p8CN1/wdVslpgnSlhVQBbrro+Gg/Rsvov5nmP+pTrzIGF5/tig7FO0WWROPuI04qlKl7uorp0G640gOoOIrZ0LkMTQWYGyUqFqs8j8DNRWIG+WHDrqZQOAq4d1+Qx1bZ7Icy1l4L9gtmR1BH7u7LZEYkCf24cvODQ7g3O1OhT4O7XujOKN+yJ0rVJvHsRlPrsI0MYvtbBXOGKhulebfnsiz97GaNq8NwZdcDyInNa+KRgzQ7Vw6VJscR5Xhh5UAvr6iolVk89130rt1+cUDQ/nR9yqyCOfyegn/nODEIqnes+1GjEnZWqEVkaeY2bUXp14Js9Rzn8a9K7UPHN+qH7q1KlT/5v+AMki0FYcNeHJAAAAAElFTkSuQmCC",
           "type": "image"
          }
         ],
         "layout": {
          "margin": {
           "t": 60
          }
         },
         "name": "17"
        },
        {
         "data": [
          {
           "name": "18",
           "source": "data:image/png;base64,iVBORw0KGgoAAAANSUhEUgAAALMAAABUCAAAAADsPlkVAAADkElEQVR4Xu2aDYvUMBCGk6CHKKKI//8PeojLuUXusJXJ5GPSJJNwa2cq7nuwbZMt9+Ttm492a8y/J8vUFboYYzbYWc2X/rdENMl8CcCA7KXJPcd8icQRWZV6lnlnM0oJ2zF1SZBlVIFsvhdHYpryOdlcIoM0rJ7y2Wtd1xpZxeqxz0/o79Yw2Uve6REzEPPM8tCDbEwgy8djMs8FMgY7x1sams/Gk/NcK2Uu/A5Nlo0H6/MVNwVlGZHgtazTLPMaCePM3Rihq4Lj9YapIx0Q0RT4WmJ8vmIlfIROF2u2LRuvoH4fhDB7VGO2sAVRWjzZnaYPXqO7ATkptJI2Vha5l+cF/MSBrnA2H8Jm8+DiKW8yL4iENu8XzjZiW0SWVysby25oI2kG5NwBw46THZ5bPi9FVncLDRKUYLN4F2yNG4v3/jeam6ftdmzxOslC19lYcIONKVYaZ1GdDWwFZpggn4icW284dtnsFU6X7YQ9Zj9jE3s76LFYFLpifo47loC27l71tGd+MS4XbWHWZog1GrPrgy/w4YDEgblDZBXtfN5wjMPSscs6Kn32NkeFJdLpkEufM/Lk7bhOk2q4NJuHCTFqg7/6/kRh8u7fD5bIGy6PlFafpbpzys/GRVe9C8yqfU5gqzNr6IdFJfF6PvZ/UzWzjSt5XIqiUkPaNyeicWacIvM17XotZNnlRsEclhq2wmpy6okyP0Q7d9TEZlrh8srkFNmwMdXlaFEgk31ZUYpnPHzrD77lmqbNFFnW5mrcQOBOhltl8sj7K5yQqWK8T4Lc4zDGPHZrQKSt4sz99QYnxTCzvf9rr9oxJ4mI8xnQPB5ddDiunTJimDMa7K1ubbLKR4PzrKRRT0TWjSA3nv46vW7cCJJ/jOulYtSN4scN9qYamvuZqT9MA5+71WEhmt/6ERTPPByMPzF1h2nUB8kQR4ISy/qrlSM1YiZK8c7W6zw8YC79j7C1Ni5G0XRyikoXHPuMuBYtpZOhTi5AjM9eiUwPsRLDDBeekNKb8RwXDXHZ2GNVmCojHZ8NJaShhn0Q1BqiFcXH8tK6DgAOxavWheCZ8S2q9NNKpY/t4oPFM8NLgZXT3mco/rCvEdKAOb0XiA+ey7lai3miDwKrxdb5Fqanp+2vH6+Jf5x+DMKUwItg8NTUvm99WUITzEhdxHo1Ro14khn0qzh6V9ULaiLPScnqh3b9XXfddddd/7f+AGYV7Fe4RgDRAAAAAElFTkSuQmCC",
           "type": "image"
          }
         ],
         "layout": {
          "margin": {
           "t": 60
          }
         },
         "name": "18"
        },
        {
         "data": [
          {
           "name": "19",
           "source": "data:image/png;base64,iVBORw0KGgoAAAANSUhEUgAAALMAAABUCAAAAADsPlkVAAAAJklEQVR4Xu3BMQEAAADCoPVPbQ0PoAAAAAAAAAAAAAAAAAAA4NcAOxAAAW519hkAAAAASUVORK5CYII=",
           "type": "image"
          }
         ],
         "layout": {
          "margin": {
           "t": 60
          }
         },
         "name": "19"
        },
        {
         "data": [
          {
           "name": "20",
           "source": "data:image/png;base64,iVBORw0KGgoAAAANSUhEUgAAALMAAABUCAAAAADsPlkVAAAAJklEQVR4Xu3BMQEAAADCoPVPbQ0PoAAAAAAAAAAAAAAAAAAA4NcAOxAAAW519hkAAAAASUVORK5CYII=",
           "type": "image"
          }
         ],
         "layout": {
          "margin": {
           "t": 60
          }
         },
         "name": "20"
        },
        {
         "data": [
          {
           "name": "21",
           "source": "data:image/png;base64,iVBORw0KGgoAAAANSUhEUgAAALMAAABUCAAAAADsPlkVAAADnUlEQVR4Xu2aC2vcMBCE5aMNoVBaSvr//2ApDSFHaalcVm/r5VvtbErhhhD7rPPe5/FI8p1tzP+nbdLG0o9i/XOnHSgU8/NevrLGfGnfgxKIOSLbYpsaNYg5JKNE1qPGMMcwV8xK1JdJG1PWNsjme7MFIIjP3uaW2AlvNc7nAbKC1QhmZ/MIWQFano1n48a5MTM8HmKfnydtUWCnpcyETOdqZrOx3yaNfAmZncuHaZtk54cglSzPGTlD5rXkhzXmKW2V692k7VQ5ywm0NNitC09kTxLmtvsNIgHmFpR78YsizT1k2maxo926z8FlQg6sw44nMKandeays7lV98+7XvZs2oyFXmZuwlwgm/0wHGGJBfXKHZPjzUgdmqFxXvb5haDrAGdkWpMN/ROtMb/GmFqzFaQdyuXzONFSzVfaMe65j8eLFBvsRdISs1NFOgMHQy9kg1zOisnw492biO/ztd7gYd9m2naS1Tz1NpVHhoPPnMLgkEMP7PxMoCc+c0djYpVDYTNftzQKJ5vHRVILciZkM6epo7CwdHMv5++V6udaqrqR17Snt7m43CDi/YDthbSZzXwNOzivR1Og2pWGF5P5amyatW2NvKdL0bBkFr9VzLKXCxHTTlua+fzimAj/QmkE5DH/DEu3158wNPtNdR7aTMPEY066XCJktLJmVMz0wjWSF107T5Crr1dQ8ZgDaNR5XK0/j9Chjp2N/P5HRg9DXiHxmZMeJ23K4mXj4VdYqYg7g0TsosumjMXoKb89nE3E+VflljnVdczYPPN8NtveC4XiWNwT89Qd6Mao+XpVQ0xmYx7y6tewHLO7mR4dDU423vc29nijyWw/bhSDeaCNprzOb0laxMLKT824k4NcFBZ9Rkfielv8o28v+QgOdctnaACSZ8OrjEftxO1z/G0S+5w0Ht5wn+E1/qTb1LvDemD0L6BPVcmzgXbxXFLmM2IFm08/80wnU5wGstjnqYIhYGRdZidpL28lzcZMWrW16hb6NGlbkjgb9UH733bzVyp8NOTMtTys/+944TbrZsNdgrRPeUilyqyQC5K0rHdxnxTCZ0PK7J58nhXBIwP6oPio2RLneehjuokPF7pwqhduB2hIno2kNDLbSKt03x6QxvDM2lFEbY2xCl0QwZyomyxY87HehBAuG8V0TaI5UIUY5HN4pMpXcyvuVvj2Yfh+kUDMpFeqlvNhlYihzHSXNiP/w3sXd9111121/gI6qMU+0MTPAQAAAABJRU5ErkJggg==",
           "type": "image"
          }
         ],
         "layout": {
          "margin": {
           "t": 60
          }
         },
         "name": "21"
        },
        {
         "data": [
          {
           "name": "22",
           "source": "data:image/png;base64,iVBORw0KGgoAAAANSUhEUgAAALMAAABUCAAAAADsPlkVAAADbUlEQVR4Xu2aYWvbMBCGZTHCaD90jP3/P9hRGkpLGcwed5ItnSzJie69rBt9oEkcu/KTN2dJUeLcv8fU2afiTDcLP/zWOmYQM+dnsQXVNnJejef01PfymGFMnCvGBMrad/ZpKZTdU7E9ikXOIebSmIFEbZLzTFT3QKI2cH7uNYqQNnBulEUEII13Ph80qpeGO59p7LOV/tLZNwIP2b3aAADOmZX3NHqRQbDODWUw0NogZS7nLNY5bNEfKh+k8znOPfN6ntMWShnXUFYYSVnUMaymcTmT8rQmzewkZ0xEkEaIF77NlXfEOlHnjco5KOdU1SgidUzqBgJRmWOWsjJ5SEeNyjmZlsoknc3SAdIwZ082k3NL3jkLW9BbimpoX82VPAEJBzDOtwVQG695hN3ODgQuZ/ZeVv9eIWgn0Hrn1+zxLVJGOBNZK8cxq1E7FzFfoqxd5NA6v8lFHdN8V5TO79sjtr2JstY5SfrDK3A71d/tN97S6JzPMo3j1jkLtpiNlXXj4Dv78YeTFLO1sS7noLwGfDSeaM4kUbREfYYnpmlyD7/DdL49qcflr6qNiHfujgaKJ+G1WCzHM4qc+xyVigJFztkHkq98m6VMxsHaIG2Fc/g4VSOURWk7o95VhXNDmOCIFzfZRK145cf/uriJ2D2vHLyPT9zk5OU//9wd4dxCpM3YEyono4raSIRLkKFSbncZ4UUqlTU5b2TKnGyxe6uN9X1RloYm51/hThhXSMr1/dejcCZy4a2TyIKWi7sgFC/+5E6VjJeYbIh3Cet1RDqTtp6Rfedj2dxSXa7TKmtyPkZ0zZ0h6EqU9XwxyGyQteEeq80VuurSwDpXhsJdvnpl6Hvm3A+6yYf0svliuB8DXM9ByccrTgryFuJHa2DnjUaeCGVwbdwGq5x3AMMBNkUcXGOYXgqes/yqbX0y3j9U9l0P3LkkCx6TMrw2euWBUjZw5gWx9FDswfz2x6g2pCos4YBFzm0w16Chc5w95wscH7I2WG/7eLKriQ+ZM0tVVo4CoJOBmukRuxEPOxe4NlYKvSgNAtaQQLSa9dbioGFapTcO//45LE37WVre7w4eAu/sXpwv1o94a7qrHDuEgXP4ejaSlmVgyjbO63f3YlrqjxYjL8bIefvFQdDGZUwY9XV8/ZEv1vaTT/4//gDcy7nOQK2bTwAAAABJRU5ErkJggg==",
           "type": "image"
          }
         ],
         "layout": {
          "margin": {
           "t": 60
          }
         },
         "name": "22"
        },
        {
         "data": [
          {
           "name": "23",
           "source": "data:image/png;base64,iVBORw0KGgoAAAANSUhEUgAAALMAAABUCAAAAADsPlkVAAADwElEQVR4Xu2a62rcMBCFZVFKSCkpIe//hKVkWRKW/pDL6H5fay5eCjm0WdleSZ/PjkeybKX+P22TY2y67GpTuyv/Gn3puM5gvnjcICr2Cczv+YbR9oOELc9cIivloCnU4sw5sklFTYCWZnbIGWyQxlvtfykpFYFRyMwOziXMPJExWGhZZg/VCY3i+KJkmefChoco8z2bhwfm+jY5Ji8ctKTPl81lUu4+5PLzBf7YmcbUzdfJsYG4PYiyyDKSYk7IprQZF8KFhJg9cjUJBdUd/qm2D0iG+eo/4WrJejCmY/M6tAjztd+sgX+mihWEJJiDy2qH2IiIoaB7bq9IghlUt5vZC8gZ9HqyExoHLdMsOacblnUJjCkfPnJBewUNG7riXTYafbKHVeaN1vllZIHY+Ki2m2vQlcOprCPL+Bzp8jFlENgIsTMPbPZpI3ZH6ZdSt6dhZFSbFNd584YnDmkjyxre5oiavFoPaG6fg/rtGg1SCv4Hrd8SsuaNz3Iel2wuI6E8n/WVGU6fI/K4UYiaapL02Hndc3lxjGwmi5O5uaI7rNZk4jlwMt8CtM0bnXuUIGKnxOp9QVpo8hyfRJhLNcjUPqn1M93gT4rokB5al/M9mP4xdfq6FY3FaO4FRgG9TrBeYyDrsvZGxxvsAzesjxtTLHKCfrGsB4gxEx5ElZ48sv3Zd/XDFmGAG0Anp/SmXrpfmYhnvhGRYebmiEFDm/1TQqRIlaOeUvH5OZReD0RGd3nsnniYk88Z/UzxdMx6aDAxP4VmCuQ392GdhCUlrrtDnnh25266Lu9q39y1nl/vFK+4mEHpzqmQRXUe82QpnlaUUn/V93rX71QMYRG7Cz7r9SGFz+eG2GueFzDIfMwjbYC9VaERXa6/fUi4WqvyZteeI1+IEPQ5hrO1umMz1i9B5lxcac6K3MBYb73G7ZIMUZI+a6Xr8S4HRkYzY37u6N5qC/b1HkmfJ3J+o4hF43kiWq+02kj5Tjfkc/xHxEa4acRK0uf+ajgkOxKyqM+dvMFikSTzUN5m7Alg6x0RxIZ/FAEf7rEEw5gg67NlrGZEzYR0WaLMLRXVYiuWRgaKT6S6nWilfvb23xf6BzqgqR+EjglV7wpWWzZQtd8/JERLNJ5bq4u5aFrYW5NkPDcvBgZi99YJFlna50wRmByRsj57o4uICAW0zdLMQA0DYb7HdxnXfJclzqzUFYjdot1m1xut8MhnMMNbHU03BORTmJX6hFyhs0cSB5fW+zqH2ekWVntJxOcyW93IyF/60lD/AJZYyYUwQCpJAAAAAElFTkSuQmCC",
           "type": "image"
          }
         ],
         "layout": {
          "margin": {
           "t": 60
          }
         },
         "name": "23"
        },
        {
         "data": [
          {
           "name": "24",
           "source": "data:image/png;base64,iVBORw0KGgoAAAANSUhEUgAAALMAAABUCAAAAADsPlkVAAADR0lEQVR4Xu2a64rbMBBGbdEtpVC29P2fcWkIWQILdtHoankkzyiaiSk5P7K+ZX3yZayLnWl68eL/YW7sk+ICr+s0r9Pv6kEN1J1BeM028LV1na1w7uthams7I8YWlrVp7JNlsYSVv/gxOKo5X2JlBNksMnrUujmvoTSMP/ES7RlRa+acVXM0tYTcqEkr5uyaZWCjHMOmJv2tsW8oVWNsQxutnHddyZbUghBQcr5m58H1GNIqtXGlKB0fEdDI+drY14OCs1XOQqTnWUPeuVAegLzzeMT7wRSza+makf9p7EucK+ePxr6EdFt3s8kaiHeGqM3jtS3tzOunz1EbJow5SdBGScI53xjFQI5P1PkGr0m6PkZiQf5w/WxypobeQsE5sjaV6Sb0I/m40rCMSDch6Pzp/oyuZlFnxHFM3oLOCGPOJtfWpWoGbOpjYh70yREKZSLZ7LyOmHPEDZBsOzcoZrHauPlhnGdYm2ERyvlztpMJeAmklPHA0Y0oUjl7Zhfwpgdc3IqBcXXB+24LgkzOvjvJ5m4bZWTR87xr8G6AuP6O2GGbiDlL1MY9W16n6RdySAXajFrCOWCWn36pWQ9sRGojEJSzeV5bmdYkijonKpPTstWj3emXcA7/88d+1y7mtMFQlUWcp22rkXFQzLRpt+A1aL5nK7QbRM/MuUYrZoaIRM4wOprfdtsPKoMM4+OxQHoHVDmef1mopSHh/AXKZcz4YC6e3l60pMGGTG28fe2Ej0KGJVrHzTnwIT4w5/wrBmfSAEnNGdq6QjtTdilTlSXqGWeBkk3slOlwjn2ERqcSlE+Xc2WQ5G+q85LTcq5gjWc/1aU2dc927kKgfabgolr6Eut7VwdZQccGBP7watmin3ORUlImx6fv7HB3xrKMycaazu7xlVMD17IoyPcU9JwPkiQb91wB3cTZHnZOcid4+OFHcgmqO2UTnjAT0auNda58qeF3mGSYhz8Equwj5jzK0MsZN+6JTc+5IJiyjVXbDT9u20j6lTm7H3mMbs5lqB0hazuD4taz53vueU836Zeu5WkNcg+1in7OQTj9fIZbIao5QzMMZyw0OSmrO8NjuK0wz9ei7pwea5kpv0N9fu7587gX5+QfmCWfKkgHfE0AAAAASUVORK5CYII=",
           "type": "image"
          }
         ],
         "layout": {
          "margin": {
           "t": 60
          }
         },
         "name": "24"
        },
        {
         "data": [
          {
           "name": "25",
           "source": "data:image/png;base64,iVBORw0KGgoAAAANSUhEUgAAALMAAABUCAAAAADsPlkVAAADRUlEQVR4Xu2abW/cIAyACdqqatXUadr//4lTq+qq0yolkw0OLzGG9A4cbXk+3KVAyxPHAUJqzMnJycnJyf/LJNSN4CUc/uDqOVSdI2FHm7ae86sxC1PcoK3l/Gp45RZrK9R1BJRzZjPj9yZjcnTi7JUx0LOxZraz9cYQxUqkNZxjYzIN4JUXrcc7v5Gmj3IOOk/Pm/LA8Hx+o4OCclRZYrjzHTocnBsXiCwGt5DN61kJGf2lXNUDcIw8y8pSLO9wqXZwMWauKPOFCSNz45IEWho2DjNugHJKHPO1DD8PMm5kyqIVP7kT45wdcX/1zOUZ5rwvzCLDnDPK9349oUc5b2/Az/f92d+7BeqTzWfra4VV9CDnJMzgevx85jKjRnm0G7zeaEWcnsfEOeCXdZAa/PDMzY0ZQ5xDatSFGhjhHGVzvTsaNwTqLW7naZqmkKC3h3qE8zt8xHfVUk7nhmlwhPM720cx3PXr0N/56jsJ6SFEmYx0x7ordOFurCipb6L3nHL135YCO8tRbqGvMxkTTzglNxgvh3nu/maMeW6Y6LTzmbBOeUvTOST0dX6M/rzllHHPea91X2duKv6ZVLuvfdK9nQOPdJAKosDGYjGmvCvTd9z4sx6txhFBft4Vur7ODySdKOPbiKRdrixPPrtOcD8TZLRNe/mFn1lhQmW+7BvnDzN95crxaUW+8YRNxq7OH0IdAqGed1/sns4VZW+6FYbUkE7jTkstng9j2NT4XR4poBicpP3nnnHmhR28sluy1pKlq/M+nKi78N8LbRD5jDqRTN9ErCxzmDhTWqzHZQ7inARZmm6AQzinaWHxeUZAz9m6RRKFtCWRPVrOqMqlAFeWoeO8EVujjDXiSNd0WgNIE6PmpBNngE3gmi7S1OjulP7Roc2mrVUHyuNEVUknN162xqtpVVnJOVOONOvGbW3uT1gdWyD6KWvI0tSoP8UphkMnNxzeMfj6Anm1oeYM/25JR7vRcs6UJ7OsNya/fRqh5ByF16uuQ0lVWRja+0LvObF/PIHZvb+oK6vFefsUBa+K2nZ1teIMLzpBmKTJlds/zdGKs9eNZ2zQblHWi7N/c0gCizEPpYY5is64pQ79C9tN/wx/Aak5jSB2lrbcAAAAAElFTkSuQmCC",
           "type": "image"
          }
         ],
         "layout": {
          "margin": {
           "t": 60
          }
         },
         "name": "25"
        },
        {
         "data": [
          {
           "name": "26",
           "source": "data:image/png;base64,iVBORw0KGgoAAAANSUhEUgAAALMAAABUCAAAAADsPlkVAAADc0lEQVR4Xu2ZD4vbMAzFHbONcmNs7Pt/xnFHaTl2kAzJfyJbkpt1d5IHfYU2iQP55fVZdpwQHnrooYcemlHLoM1ULyGEDTaW8F0/CzUHMwAnYtQN7AmYz2v63ZlRP9pdInfmc0jIHTGAaWY7M59DUJgH0P7McjIymkgdpYNmApuTODIKO2cvV+bzGtZss6AN7kOC/iQcs9I5RDUYo9g65hmD0XTAtFP++ozGI+3n8wUIm2TAzpGsuvl8QUSSjYpfsTWjj9zXR6gMJag2znqvzHJibpBRAqlS/5yYL811m2TAdtnZZGwf5hBDxCvj17K0HKkpLMsidzcX5sugre2YojyYr4M21I1e6MHM/nHmaB5pcPTmw7cL8y7N0aHTDsw5GjtWXzfa1nnGlF46B++K9sxXgtG426CQnWd6vGuz0TXNi9mVNZCN12jt1I+SWudWud9tS9j6wmE8F6XBKJK6YFjTCImfXtY+78V5JaSixbyOZ9kyYzJgenFTyMX+EtLmKgDjFOh8vrm+1ZRZ6oDoJc/GiMuUuQj8o3EWhG1KNizrxhUMSn96rRWKzUkpG8xWS5/xWhF/mm4oIc+VjQx948L0Pr51bYbMr3ULLwpUOIyLyRhxmeV5J941DLMuQ58bbQVVRh5iHRmT3kOvdT0RtT6F8KIGo0CXutEF2srn/PyfBcjw/DFYySVy6oO/m0udAHn0lmecchvmN/wuXp/K4UMuc9kwFyF1Rb5Xtszg7D8jWzOHE0X+KZzAxRJkMqa8QdXCAeQek9n6hgkzagnbl0Fzp5irMyvODtl4D1ky32WzILtsfB609SKoPBp2PovISuHACXbakPhMfP4bi28Fw9Lnw4KxsiJH6T2Gic+qfrEj+xxUd9Nq/qzouRnkMuaOHEP42pyP8vUZqBJ1TIuKfaMo5zyXKTQpEPtynsbm7XNHVnhjOS5EYwJmIt65JGTvbFBOssZbbRbl7TOu42+dwZVXtNnfZ5CAjFwy8hzMXPvQIsg7G0TEviGyu8/1+nTRZozs73PMr9V6DRZ73Zmp1WsdwZFYe+D1Zs7zjQRbR/DxxM6buYgCLnu1E6Un3Uh0Tk9mG/ClPfPO4nPLiz/qY7q7z9lp4KBpiKu+5DSBz53DSaNl3gl8xpfKrMcNVvbmYMbXWoB9aKlpgmygks+HkP9L/QHRT6UWnxd1kwAAAABJRU5ErkJggg==",
           "type": "image"
          }
         ],
         "layout": {
          "margin": {
           "t": 60
          }
         },
         "name": "26"
        },
        {
         "data": [
          {
           "name": "27",
           "source": "data:image/png;base64,iVBORw0KGgoAAAANSUhEUgAAALMAAABUCAAAAADsPlkVAAADgElEQVR4Xu2a64rbMBCFJdEupcvSZd//IbuElLABu4xGI83oFgdazfzwKU1kK5DPZ49GshznTp06derUqX8jP+nT0Gdp/ur1g0wxXzZq7cjVx7bDfHEuIzN1sK0wXxxD3uElkzXUoT6ho2tp7ntEzu884igbzAw5y3tyuoa2kA0ghlzA/+QtKsOFN376Gz/Q0TUluTcCk2SXgWxsW0EWNjOJeOj7TMk4Lu084+ijNDc+ezgFjPt7OamejdemMHNBwWts1WZ+pTI3j4e4GOU85zA3da4I1h7Ca2VmUADisCFYJ9CNdLPxpz4xsDotSJI0mfmMLeO8gWIrXwT7gF42rgW6Gn/pcIt+ppU091bNZ2byljGjqw8nGDWf44CrGT3P89BOLZ9v3S8G5HwJ3HshLeaxMpE5n8dK9oaarBQ7JeabPOwMu8lIVGLemtiC2uiSBKYOMx+BpSmryNhoHWaXZrnDEh9XYb61I6yxeXJdKsyg/MU0C47mwHZlp8UsTJxC2JhToNDFcICFYDPw92oGDwo7rbDewNocIcr6YpSMnA3Wt545TSchUohFUReZ1K2Oi1RmQPrqUTIkHLug5cxM1Wwyl6LPfKERwwEAzyGvzvOX+Bv/gNe8XpvGGW+0UKt95orI7u2IzS64sp27lvnOvxCR8dlDvs9uRVektX7mjhKyc+9DXlIIfIWylvlJ4aXsOFnCZiRqKfMdXjpLuo8RBU6Wsak2BvGxTqQu0XhUMlDF5tW1zvmY6eBeJp/JGhi61uesCvmj7mdq18+rfY5OHzI5CdPEpxQF5uPPcEIZf+IB4dJsfBdvD9SpL9Qz6vh/OoYc1e7jgtZm4wlcAMUsN9RrmYeCxyn8ML6Wx928OpthFqqIB/1mFECxlZDhKFQPi6z4PPEulzySFeZK5DJdzU/eaYP5tzgiVyNtrh9FNvKcfzTgQdjEXPf4bDCTRrVCRMNINuLKSQAnL/Gtusk1wix+OpD/9tSo7DfC3NE4tdaYRSZIMs6Tq1FRF0csNuwwB/gHL3iUqWLtq3/lYSUbkVcEo0yF4hbdDnO+30vvbO5uZYQ5qRS3sJWpu5YN5k/B50tOukaPZsvFuvDpI+FuqdXsLNjwmc94pXr0PjjtWKtYgr33dJfC1O7lGckG/NaONosq6nbTyUg2ZIWm7bEv391esMMsajOa++LuT+yImNZfxbG6ClIq3gEAAAAASUVORK5CYII=",
           "type": "image"
          }
         ],
         "layout": {
          "margin": {
           "t": 60
          }
         },
         "name": "27"
        },
        {
         "data": [
          {
           "name": "28",
           "source": "data:image/png;base64,iVBORw0KGgoAAAANSUhEUgAAALMAAABUCAAAAADsPlkVAAADi0lEQVR4Xu2a627bMAyFZe2CYcVQYO//kkOQIGhRe+BFIqmL03SdyR85KBxbcurPxxR1cVJ66KGHHnooopadOjed0lp2nwfV8ZhPSYhRHXYw5hNsLHJKKf8yh6GYz0jbIaeckqbO3Ql+OuO2RwbhA2DF8fnMuCNmdLZaHYYZTN5nrtRRYoPiYoLcKAozqMXdJjVRmJ/WdRIZG6BTJSsKs84LRQs6vXRN7mtb4CuxkwJjGyWJID5zExw0wA3E+/wwgjB3kvbXK0Rs8DiOXB7RbmlZxd8QzACz5jUjNQWwkHNAq4AI0A/yMCOvXQskCXROT7znrNoDVkmjo0P6WGsT9Wcuutlpwwl4g+7MA5tvFTgzX/qieZYrT8I1b1zgDxlVYCxT6OKvp8+Xn7DFtLCLUXJbSSyezDoykOMGTOYTHGNDxzIZiNs+NLamE/Hz+dqVdNlu1d2MoDr6rJUbXhpd0F9ntJvP10opTQxUQ8N4LPWOzNeUdy49nGaFig3KyMrmQqvGn+O9Q4UNME+s1gYbs/l0J+YiamISvDjHHp/qPa6TPDe4vika8fkwK2U176Bx88RnPDfImP9+gvu/8Z/0LhC0+X2nfrZe8ixl7Ai+QBMEj/z8gluaZaeUYEQqb33W2c3AtJzqPJitfsCmtrumx1Y3UAYfLrFBNhchMr2bmk5QamJxjGclQp5KTLeOHy398CsyGD1aH6oLz/DJ+67x3JiMfXgrbapfPNdLGuTnbbOr+axSJE3QwedXbm13rxTWez2eGYQj5m9N4cBkGY/oeDiaeSvP/3tbM0Ye6fh4/tAVVTR/8D/8g8qKeGfzRBQamWaP1KUczpy+wGYZIP8eDZsKstHR8QzQr23rK2pXOUoDbKCPZ+4ThqiO9SolxZId7Hkw7wmsVoDGZQ7nSMy0zKEdJZNLzijIx7fBHTVvtvmQkVVdIJ/rW3neJVVTq83BmDlAxFMkbmMhGrOOAWbtwrcriCODvOC7F1Icn/80x8TK4KZ1xvHZ/MSS1z9Kd24TShyflYzF/fQgELN95DtHgZi1DOPSvMeIyawQcWJlTQ/EnLuF/NJ5ZzsVC8QMeGrQqUcbofOGzW3DnjscM4rXBshz2MTNdTyoq6sZ5WcEUGCmNoGYTUioiOh+f9kcuopegUsQAxta38zSIzHLi0NJFdtgxSkYM+gKzMLVz9IDMoNg8RQ0X1YIqrdJxV/lYLotD1ZNjgAAAABJRU5ErkJggg==",
           "type": "image"
          }
         ],
         "layout": {
          "margin": {
           "t": 60
          }
         },
         "name": "28"
        },
        {
         "data": [
          {
           "name": "29",
           "source": "data:image/png;base64,iVBORw0KGgoAAAANSUhEUgAAALMAAABUCAAAAADsPlkVAAADgUlEQVR4Xu2a0Y4aMQxFM9luteqqatX//8kKsUKgZirbsWMnZpaHqvYD94FhZpA4XG7sJFDKU0899dRTT/0bbQf3wnQqjZ78cG+nYz4jbmcGrdzZmM+t1GaYV+qEzNZmlKWu091gnWZa0m9zloz5nk6aOhfziQ6r2Y1vgVIxnw/utQGditkL8y43BToVswejChtDf5lfE6heNJTbu1uME9XnZQBKLIiylvIdz/JkYxmAA1lEHytNNrib9IMF3sFo+QKyZINcBiyVjQ3yjLwoyASkI0k2RjB0nMFsJyE5suE1E4FdikcKnx3k3fhLJ/AVwCjMwPxxcM9TAuaPhwtBo7DHM1/s6SFQLfUcznwh5G60LXV3FVo3LovLx6pkcbDPXU4R9oXfQqjPqBGGsd4en6Ghq5Qd9jeSecqFm+QpB0myMXx0bHY/SKTPd2TCbT2ls3ifGYHTrLNcGrURvCaogT5f7YwZqOTpssoSvUf6fOX3rugjmtpvyRM/CGHMF23iZkHG86ouSykMY1aq8wTZlOxJkfONt/mCS7JeDM2zMrHWYfQDbTyKGUagfm9GtVVtyUaDbITVuiuyIRPFRC2w1hQbhfh8KzfMAtW0nuypoVgd9Mb/pZti4MFI+1qg1eYNPqKgxjCP3Nr6C1d1Q+Hmbe0PYt7QOSgYA8D/MRBlbI5h3mH3ole3r/o6z4mMrO9RcyTChd04g/xneSGr79l1gyOYb/247QaZS98sau2coqA+ON7TIJefn9RlVoTPIov8iN7hIcBnie2rf3+SnvUhcoTPLzvmtr4cvGaom6qLYoDPXQ7yr4UG5/xqBKICfKZO5wejjnIskDNyCPNxKGAhWxszetu8EcyfCHBtSKzNyZixNcoJHQYue56LuWxjCqeQEXukJBUz/LEEqQefgxxY6xzRbLTPU0FQ6vQWBymVz1bIaoC/0SEt8+SurnlJmaVjd+FChbuNV7PDxH/uolRIX+FeyKvdVGNQDzfTR6yzybKBS5WlEd7dNk0gHwZKX+LeLdxm8PV8y6omF3MvDZ2YUzxnJRXztqult9qHmTKTihlEfCMSchgL3lTMtfVZnXhMRXpqIql6SrkgtNQJzgRAqrVYKp95J2mEQs2nh3L5LL9zdvBBp5e8yZjpNwtYfKPXTGcX6emYaQcSE9HZll2FfMy4OdbKa7k9uDmWQ/YPgYv+Atbcy1vio3FeAAAAAElFTkSuQmCC",
           "type": "image"
          }
         ],
         "layout": {
          "margin": {
           "t": 60
          }
         },
         "name": "29"
        },
        {
         "data": [
          {
           "name": "30",
           "source": "data:image/png;base64,iVBORw0KGgoAAAANSUhEUgAAALMAAABUCAAAAADsPlkVAAADf0lEQVR4Xu2a0WrkMAxFHe9uWWZYCvv/P1mGDGVKnUW2ZF/ZTpiHUokl96Fx4kBObmVZdiaEU6dOnTp16mu0HPTZ6RZSabzOev0xr5mXmUkDtzvmgozMA7U35pVhFXNHHXWfV73hiTOfb9LofA4h/mnNvs9WjJMGZHgdZ8wSzROlVKF9MYuAattqU6BdMa98xNDAAcfQP+GStTg1V7HDG4Mn8deRz7fZyANFMdpPrqsuC3kLZKYkfynjuYmNm6DyEYjphKglONz4XMZfVx5lcEHMxPHqxmfJGChxekNf6YV8jEFEHgcip+jSsTphvk+uwVwikiLVA/N9xJuqBLQL5ntYJplgcsmPz+94suMi/yN4ANozZwRxNbUxiEZr042Z39lmMJKlxiC32WNb5oycuklPaVaDOJlTmgpj9xKt3sCjichkMLI1ARkAS/fd1GcK5ZhRlgqZuQ7z9cXU59/jJYzeIZTLEFzNfSaUrm7ONsv8UQpQVSZZ+vyAZyNTRS7q3b5aMr/IwxsD8XXIujd3GDK3p0dZpdKfrtAot6hRacsMqqibsnnGZ8j8aM0YVemDOXmYB1dLZhKxshaYXLq7QNRlx8w2M0C6bGUEDvNJ9wIpmeXnx4u0Yipzy5U2XAZi5WnO1dGG+UNFM0yHh5M2phkvqpvihxN4sIuNVhbVIGGbe8hUfS3HuNr5PC5c84eeg5yRFcPVzOepDoGzvTFc7WJDwgNC4wmPqUQyGYOf0ujD468+1ZpOk9+n+tBN2bwjuju/HNtsExs1Bp4gFmQw18TnXQ3BkYsnKE/JZhOfaTEVUww/Du7hu9oZtC2YiSfFKbGsDXNbGjWY+45v1EIBvWNyCQYFRsHMV3No2Pj8a6/jjaZvoc3pu24+Gvv8pBBZcfpifoVpZiGVJg9AOTWJjV3RT0u44Gv5jZeK7YIv5ipF3CF7ZB72ufr4dcjMElIgvpSDU2acALMoSct84ytviGbI7aovnyNsIvZuDu/hQ7Mv9VWpbiq48hkqOe0lhUa74ooZhPUFV/x178ZVbMBPFYWrTOA6S/vymdMZJgs5A3N9MRNZwR6/Yra1ozNm5lPEQ/g6Yy5FHS6zpQFL9GHTzFb38i2wd3hRaxtnPseQBBlDQn/T9MasfxRKqPnnomoF6Sw2Qnjk/WZGz3TDitcdM3y2KGy7i3SP+qDPLv+L/gEIjM69hNaVsAAAAABJRU5ErkJggg==",
           "type": "image"
          }
         ],
         "layout": {
          "margin": {
           "t": 60
          }
         },
         "name": "30"
        },
        {
         "data": [
          {
           "name": "31",
           "source": "data:image/png;base64,iVBORw0KGgoAAAANSUhEUgAAALMAAABUCAAAAADsPlkVAAADU0lEQVR4Xu2aYYvbMAyGbd92HHeM/f9/uXG0hBaSIVmSJdsJ+XCbxMj7oYnjlj59K8u2kpQuXbp06dKlr1E+6PPUbz75OfZFZP5MKa36QscdjhmAe+ZUfuhWUGaL3FFHYyabR2gVIWXs89QBsvQFY77RcYbcoGMxz1lJK0OHYp5GxiZnDB2KmaSRGzGyInRAZkbeQGmDI3WsFfrb7FNO2knNgA8pWewNlJ8tsg4K4gRomFrC+HxD2B3iqpWsjsJ8Q561EHXW2BwLHBxBxuAdX9edaO5cj8F8r1QaxnBa6BDM1WUU8fTWouA/gIEagfk+H3KDmNV/DC5rSrlCg5FlFtFVnDecfV4QmX0WmD3f11Ru3sxLWpCAshngq58wKoDPy851PTlPQsWVGdWMFTzl8zqB9hyDaLONhQ6Qm2Q8GezvsyC1Nah0FE7X+t3+zIyFmphu+qs8Y6MJ8rMJi9rAPGKYS/oI4LNGEJs1fzsvbL3q/cd6qu+2Ww87EnWrfLgyPyVWmYFtHrNb64cKiBvzQ6cH2zVhMonDi/lhWqUcTH19YnFj7lXyeZLz7/xSsc1nvh7KGkZO+flVoBHoDV5gC3Jq8X/mh/4FSTgD8hsiQ+liijzMlC7MD4vc9R4MwRRgzX8C2c6D5hhC8wmFrwiqL3MpRdk8uRU4lUfewGim6tar6dmbte1yxIOZGfJ2CrnUWm6pQeG0Fn1h27JF3lf9QIgx+L1rT2HoYqknvmvREXmXpivse9T5N1xBjMQp/RoiGn8FRjMFs5PPeJ9hhjziWGSSS954OegTCWSP7MN8oH6firHbuR+LGWu6grvtjDaPeD6Qgswpt5JXxaxDMJjPUj1X9IDLQ7EqGjNrQFb/QDjmXG8UsyQuUkrvdAzHrB1F2nHEBWSuYlQ6au+DMou5Crm/FlwGOSYzVgdgvp4UzKMxfyoaRJ69KRgzGTswwSpJXQw6BpvaIkl26KGYsbCllnVtvWFqN6GY8SkZiY6615auplDMeavP9pRu2QwnaoseihlU4O5aJl5o8BMQTaGYIZY32HkRJS6QOE6aPPbd+1pgHLLFTdnu0mMx09MRwks7gNjMlVpnOqDOthgSKp5JJjl3vKonlh4I+sTzee0msir3f6A/2h/AfTWDUGgAAAAASUVORK5CYII=",
           "type": "image"
          }
         ],
         "layout": {
          "margin": {
           "t": 60
          }
         },
         "name": "31"
        },
        {
         "data": [
          {
           "name": "32",
           "source": "data:image/png;base64,iVBORw0KGgoAAAANSUhEUgAAALMAAABUCAAAAADsPlkVAAADfElEQVR4Xu2aW2vjMBCFJe2FkqXk///LLiUmFGovc5E0o4udwCYzDzkPqS0Z/OX0aHRpQ3jppZdeuk9xp89On2u5PPe9Dpk/QwiVeYDtjfkzAa5CBilsX8wXou2QQ0jv4rrv9ilIDMsV8zJu3vCzQrvKxoViMYgGiVPtyecj5PCXfnhi3ldKGdoR8yWsA5s3SjMLoX/qJ0zVhmKj4bbRoKu9fnzm+bqiKYNZOAo9+TzQFuLWlTY3te6ibdYmM2UKAaZDLz43yI3Q6xJjJ3m+7PSBwPbyfXxkg9ZG41yQiJNWSi6YyWVdnAV4TTPl2UM2llJ/h8id7/ZjcGEoWOzjgh+GnMakcrcmttiDz62P2zDRKPxO1j5nl6dlTsuBz8ty6svArskwXE2ZF+Hzns3lWxGtKfOpvn13GiyifkvmK+3/0MVbOFJIIS63PfswiZcPKzPuAXTTdjJlvrb2ZkS6EbsWnrhzlx0zIE8DvK4yu8Vn+zxncVngObBe6iu4NK4baDNuplWFniPbZ4OQJUDBU7GmZj3NWDFX3ff7/nPHs/9ZxeYsNnebD8sqI2aphIE+TutqWze0zcBANU1t+6RUoG2YUfXVKYnKcUx0/MQD9IUlThka+/qR73NDecJqzY8ATPOGn3xQOxfsrVAmPmfhy98IOZzb+UQ+lXe52Gvg89dO32AAith3LQYCQna5NrSCtrLExjMZU+YWeVeV1CAb4Fqut7cjCxkw11qsiKFu8JnMgYyyEUG/VdN5a1Z0LJra6ZJojZhBv/Ttxz5MPvgyORf9JjMbYoKeF2dChpWonc898lBlPpF6/hjEpcYEuR2D0lHLWhfD949pp4bOw09kGfT8PM/1AR96FVdONvCW4mzg84HSKjzNyHrUeWKm+bHwiQiUZSjKqm5MJDhlaomSo+GNmUhjlGfOjFi/g6dsoAitAgKxttmTz+K/pLSQ8a5d7tP0PmKppflU2jxlo1ttTAz1xCxVcTkZ1WZXzKmZBNvLLE/Mc+J6YgPyxJyG2P2iyBNzZW2R9b0z5pFimQpZLpmb2bodhp6Y84K/zHtQSHjulpH2xEzQAFnOulJIsA6Nav/oiTkSYBl0lAn8VOf8npjTGnmn2GwAm126J+Z2ws7S501dubYV/2moALewLFfMTE3McXps44w5hCuPw4nHIHfM8MeLePPZ2EsP1D/bn8KcDaix3gAAAABJRU5ErkJggg==",
           "type": "image"
          }
         ],
         "layout": {
          "margin": {
           "t": 60
          }
         },
         "name": "32"
        },
        {
         "data": [
          {
           "name": "33",
           "source": "data:image/png;base64,iVBORw0KGgoAAAANSUhEUgAAALMAAABUCAAAAADsPlkVAAADpklEQVR4Xu2ZzW7jMAyEZXVbBF0s9v3fskWRIGix9oI/kkiKTttDTR4yh8SWDfjzZELRcil33XXXXd/TcuNYjN7KSht/987IxXwGXEZGudyZmM+EK5ld6kTMZ8bVzA51tQNhOu8deLUDeZhnbfz9YqhTMYtoNF7QYqzOw/ybvlqaN0mtofMwc9VgLYuqDvVN7sgjkTKFbtjMGwI6DTOpW402M/hm6l8W5vOqp8COu5WNUjKMTsJMxVm42eLcIrIK6F/jtEAZZFUyChm9DndT+GymQINMA3UYnYKZPGabdWHmMbWXgbk1RyiHGEfhP8pGJ+jrMBnD54mbEMHcSpNlvM+XacS1eh2s4cyXTthQLDLvr/2HCGcm2T4fhnCWAfWbWClHgfX58uwFgwmdmwCF5/niITviOgG3Ee2z6zKqmcxzHzccXXHMV/H7m2fXSrhturb1OCwbV3lt3FIoVI5JtpDE+Swl+tD+F6yyJIP6dhTzFT7qXB0QeURlHaS1U0cxa9U2YQCyvBE3uu7gzwttJumHVSPBPzqSIGaWvbq12RQTPj2GuduMl19ELzFNgLA/Ckf4PAii6zOFfcC2SpGNBjD+gDcVmY13t+zOYVaHQbQ+FsH8ri67lrLAro+szmMF1Od3O/CsVraMsOnQXVIAM2pMgc/+CZPGTxORDanTCb/+4OetaAgdz8zRqFVdGl6auMhcwaWiskEik1GfFrqh45mXQSeQPw2G+FWOZx7Q30FGan59cXyeezqf9o5PWpiT1yIPZ/7YbT93UfriF/t8dDYAmTAe7aH9svGFsZ/XVrYJ2RXgieUN0sE+s82zyb7cXupoZpq0v0is55Mwnx9L+fdw47jSCIZO8MHMpZQdZMBS/0JhMm6OrsqtOiF6wc8OJnNBj68rNVIRPu+JpscqVmGan5WNbuN5mFkTcRfPKImYX0XzpHGnKSRPnl9bP6qQCBg+u82ZfOZID+RucFUdbC6flSSxsnkOS5TMk7d+8tLepsmG1iDmLfnolcbneQ6U44uIRkqfR63wlYYZJufdg5nWCrTGWx/lMQCrgSzMb9i2OalwinEWZuiDvGwseAdVPaNnYQZxh8w2y9ZZn5eJebCJCDvlIxNz7ykoECja0Ms3eZgX2eRre82KUxpm0c4hr2jk7CJZmr5uvJmtZcGXEdsTLFY7q3ppfCbhbEg+4iKIuw65P6sfrBNEgmgwFTfWbdJkQ77QWjAXu8rEzLo+fH117K4f1H8+1dgVYS9GdgAAAABJRU5ErkJggg==",
           "type": "image"
          }
         ],
         "layout": {
          "margin": {
           "t": 60
          }
         },
         "name": "33"
        },
        {
         "data": [
          {
           "name": "34",
           "source": "data:image/png;base64,iVBORw0KGgoAAAANSUhEUgAAALMAAABUCAAAAADsPlkVAAADfElEQVR4Xu2a62rjMBCFJdEuS8tS6Pu/ZCgJoQF5mZE0F0m+FHY98yMH6tqWS76entHNDeGpp56yVNxoM9FXCCGnDKcfK4/4YgbgEBC4aIrth7nwamTQiJ2GO950ufR33DBXm3NvM1B3176yMfIW6Xy48Xmihc6+KOwgr8zAKzMgod0wC6hlCQseFnZatnthvgKIinNfaQz90rXY6CrOwdv2FZZZH+HF55yrzRwHxC3xwBYy2gWztJmFtLF8U6nxwFyRp53zEks6ZKMD5rnLTZyVP+3EvgYRudkoOremZehCzH0mZPiaIIPKbapBY59LLnaQ0WcRaGPmiJgp5ABLE2DruWsuUuZEmGfjoGS/YevzbbgzxINGQqY29Pm63stllBoYU6IiNPP5hgVYgfRw0g0uxemcqIM29Jm73dZv8JU8qY9lWmNZMd/hEA8t7YaIGzHfIZ+NR9sspe+2VaERsxIwVI6FORNIPdeyYVaDnQqpjAHeUdDtwoPPbbq/JWm5DTNWIIkYNqqN1jFmzHONK5K5TJjZZtnXrSEP/aEJc/lQPBKQWKyy5ODNqBbM3xK6aX90odmoAfM3nVFnkCf1x2pNdvONBxz4Y2NJAHDBVG6m/k9wOvNDIeDHl7cn62qz0XZtPQ6+8V7BDjm7ezbzQyX3Nxzew2UrzaPOzkbdny2eIvLGSzXpvfnYXdSQNyQG79nNcyQKUCCD0btxtqvBsqPRu7wJDL+n9PZsn6vTwrVDSpL0Zz/675R+qcvP4QElTXkyMwyC+zMLLet53SscYBtc27wlQn5vJ6fXICoi+64SpV8in+1zeEXaw8hTne/zMd6KPM3+2T6vaeDAuXVBxjZ6m2Lh81wx6YEFOefIbphBsN3PhrdYwI3EBeiJGcd0Togk7oPjJc8rqsjKZj/MbeoUi3SjfofhJhtVArbaObrqhPkCsNN/fJjICTNKIxd/RZ9H8sQsJYMRu3y4qUEhnuA3Or2M8eezWJKQoW/qCWfM4s8+DIgkJ8wAKAdunVltsxdmEGFK3ln354gZNePtbPbSb4xby3X8Hl4SevIZ5s+67Ojq3m2SeWEGwAYZdTHmfl/PCzN5rLeZpntiXphBIhFiVBl3QrwwJ178IS9tRU50cPr3/3WjTDekZW2zyQ0z/EuH5lndCPHDjO8NGWdj68YRM+nxg82mp56S+gsAgrqfSevT4wAAAABJRU5ErkJggg==",
           "type": "image"
          }
         ],
         "layout": {
          "margin": {
           "t": 60
          }
         },
         "name": "34"
        },
        {
         "data": [
          {
           "name": "35",
           "source": "data:image/png;base64,iVBORw0KGgoAAAANSUhEUgAAALMAAABUCAAAAADsPlkVAAADY0lEQVR4Xu2afYvbMAzGHbM7xsqxse//JcfRUFouGbItWbalrPvjLHHkoaSpVcgvT2X5JQ3h1KlTp/5Py0Fsvv7gyU85nuWH+T2EsPEGldsH8/VyTbzEvC/wUqh9MK974kXkfdnTu0LtgXkNoWOm0CJBe2AOa2ZmmVGogW6kjkOLhaqx+RP/TLWE5MHnKxzQ5hY/4fVO+/A5pXJCaZGzeqedMGOhk5AH6G99fLogM5qxhGuXcteJz4c290abM6cOWDQio80NtDUzRxa0S85bMyeVdBYzY8/Y3Ghj5lKay0EZLPp7sWWumZG4O7immjCjTcdBQqb5kdoLYwhv2GTrcwFCZLHH0VdIlswrTt9GqYMMyHAcXPGEMgPvARvA0DIScm/tfCbkqoS8bWgyY4NTWDD27TO1MmS2QHlONsy3mJApnTOF3gNp3pdkwnzrryv6rKKpgc8WXFgaHET8VmbMXDJn30qoFrXuBoeBM2ezYnNjrZnP/YVLnetaRZkxS+qI2RSkiRgw3/I1x04om4xzkvobzM/nm8h2UJuzouW8LvJLLsxd6VbEu5nPDNTpqnBgQAJy00Q2G+TG6x14M84PmPjD6S66rBg63ec7IBcBckJQspmVvq1O6+YzF0F6ZOTLVnafn5YVM4N8U3lZd2VlYz5zXQJ+xybVZmVYnMz8eOBZJOTwS2Hj4l+ZzIxiDyKOxMZKtnE+l/mjvPPMOFK9Mc45tz5valkTxUBrD5zs80ekn/opm0HjVsFc5tqRWuTfzadGCTlGbvNcZlLvskyBrX10aj6/POIWXg++0IgVjVZTmcOLFohj7SNkviVKEZfiyELIXssA0iALMQfqoQ9cnp3Ph4obpDVBUvcbsE2fTaDex/GxPpKIIVzamCOfq/5hpAtmVuda3CEtklwwlxWtSCxgO6kbGVfICd91owfW3XTBPIzbSJyOS16fV7lgHsSI1aixmj9JRdwiUNF8+UyVgvP2qeGKmUpeJXYwf9ZUIIeCLA+IPphJ/QxJzGn5TiYrbeeCEJEvtscVug+fga7OQvWZc5YL5vQfiMLIeGGRKJG7YO4zNLJOKSzTfTBnVU/1vAC5YCbEWjb2sMDSRdwMccFclIlznizqVoiTWpee2kdgwf/hHhB7YQ7hzlEOiU+d+lr6C0/GwsJFk1upAAAAAElFTkSuQmCC",
           "type": "image"
          }
         ],
         "layout": {
          "margin": {
           "t": 60
          }
         },
         "name": "35"
        },
        {
         "data": [
          {
           "name": "36",
           "source": "data:image/png;base64,iVBORw0KGgoAAAANSUhEUgAAALMAAABUCAAAAADsPlkVAAADaUlEQVR4Xu2bfWsbMQzGfWYbpf1jsO//JcdIKC2chyS/SLbs3AazxMhDm1x9hfz65LGs86UhPPXUU5Y6Fue262c5+K6fz3LD/CuEcPKBObcTZiCWyAtqF8y3zIsPCagScenUUR3dLoHcfKwBF/LkM3ynIx0pHGg2nlOs9sDMkDEZoMY1Qtsz3wFzYGZoA7R5nu/iJ4ZcNYTanPlVw0SllOhcD/2l+9lEpTCr+GnIr7nPFblfUZg6o82ZbytY1NFDWzNX5HMSDWXYmvlcu5xnoTTamBl7o6UUaFvmWzl4YLdcWPo6slWinyNHBXs2FBkZtHV9joAZERUbo+F9z6byccts1GQwdzEkLCmEHCNPvqHPdyUNvJVGO6n5h7eiyc7n3BzVjo4UGxBLuQQ18/necDKy6noJR3hrQ0bM73XSVU37uyENJszv9HQJOV/NclnkOSOXMjZbTiQaqxsWzAvN+IUMmIvNQhQNgcynppABM6j3k2qGHBVotvUZbe5eVi9zJEo9P7mfmcTWjqwJsodsdGk+2XVKpzzio9aRYsOZ1GaRBwa6nfmle8WpzVzwbrQucPc6+BFCzHzxTG940TRbAsPJ/77WcGxm/oCHAv1KT4Cs28yRee/Hf+efC5FLOF/wGK+Z1snotdXnjDwg/hnyZp+5yGYweolcaotR3Sg2owryI5dxgkbjtZvUkMMP7XxVaVjZdYoJc+TIcwEbIkfJuXMOHotS/EDC2o3Mn/Xom3q+F7NZXMLuzsZfbrXxNG9nxmxcs5lLUm5mhmuRi8h8Bgqbd+b56+xE6T/k4KRo7GWeCzdHh6FCPGRhdzZm6jjYBcEoFz6DaA+6HLd9OsVWD8xHaSpQtG/bXB6moAtmKU6sJ9cHc7eqs/sRGrUP5ukKqRrtpW4oqmhdnB0zz5LhmLmB9Ta7ZUauCZybOShEsPQ42OzTZw41Irtg5vffY4i0Y5OfNPnKRu47HxjpgjnfqL8qF8zcWo4ub3pWeWEmCeDpgu6JuRKztk7bvHHBLKJcvfVdN3LTXz6pPacl6YnZK/kx11ztTnjQtxVc+AyISNrdgJjshHhgzssIfIG76PBq58ZDNvA+p8zwMd3AceIzCJBpKoKLK2InPtNtC0CB/5pYA/thLrvT6coOpJds5A8eXSB2pXYf4D/Ub39KvANfrs6kAAAAAElFTkSuQmCC",
           "type": "image"
          }
         ],
         "layout": {
          "margin": {
           "t": 60
          }
         },
         "name": "36"
        },
        {
         "data": [
          {
           "name": "37",
           "source": "data:image/png;base64,iVBORw0KGgoAAAANSUhEUgAAALMAAABUCAAAAADsPlkVAAADiElEQVR4Xu2a64rcMAyFHdMtpaVs3/8puywzDB02UyT5ItvSxANdyZQ5P3I15MvJ8SVOQnjqqaee+v+13TnnoDdY3EIIv/QyKzEX3iyNexnm9x1XnDlsr30pOiweNdd7CMjcIAOdRL0E8zssMvNWuRFupI7DEXudmr3Oaop5owV8RpfR5hvzmCQ67e8zIZN6ZFLvtDtzQqZWo1dKQQftzcyRR5dl352ZeTBIu+R4a/SX4bylMjJWQKXMKFefR5eTitfijbgyj4Jk7PteqW5E3YTDk/mUL15slbKM0I3fjnk+hRARcmw0iJ352XR9bszUYUfgi8C4ATXs4l7BRdguDG7MXNVoiLNwvoX2yvM5P26Fsj3W7noxs4xyntjzSI2dHzPR9C1xbUKaW2HbTszncO4pBz+T4+lhNJgezISMymZm5Gou+UzIHaQHM2qT3jaUPHSV1J65eEzQnEfqBpP40MSemUPvTZoFZBpuxJbTnPnCxj/5+rCx9wNnynNJEHvRtWa+QIuQLrpRr308coZCP+quMfOFVgX76Po5G9HT5yKkznkWVRs7KMYKujGj6tUl9ubYz7ppzPytblaiqXkhlg3jseifShrxBuCl6bAOgvzqINS+XAHR89fU0mnlJVkzk2KIkcXkCBkg3duNPYSvd05LcswGqkd+KBmTdfbf6MpHnDUZv3XkSHzQpTCbjX0uI/ipMGutt2lbt6UPD/NZll5TDH3+UI5PhZlHw5C5qrVZJUhpHguYMX+Qn9uQDM3nQrZ3NtsxJ90eCLPWqFnVwWuyc5qYD7DZmI6f+my90JJWk6K2eZSVz+HlqvDi1KhwUEU28zk7PS8V2c7ne6JXWb7f1L+e3J85T5YX4WwzR25buhWYB1Xkbi6GF/BWnXhJG+mAgryIz5gPAO17ke6rBGkNZrHPUyNgOObXNP5UAiJiWPZVcAGfRWTm8YC8QB2U/pLig41R/j4LqrmQbFbuxFJjNjiTgLxYHYROnJssIi+UDc56/+kvw8ww66Zo8wrZCG8x93eZFqYUgOy7WP7+U7BRHleUDxZb2HDIEdOnjE5LZAN+PWHmiRMxTCsww3xc1cZo+RRZU8Jb5Rtn1gHyEnnOQr/rZzhVC2Qj5n6k++NEcXkJ5vqsI/HvOi5qgTzTx9kMPjHRdBgeA4Grj3A8UvYTVTAmbF4iG/Ctk1YzxMswI/Uc8VNW+gsS67yNdT8vJgAAAABJRU5ErkJggg==",
           "type": "image"
          }
         ],
         "layout": {
          "margin": {
           "t": 60
          }
         },
         "name": "37"
        },
        {
         "data": [
          {
           "name": "38",
           "source": "data:image/png;base64,iVBORw0KGgoAAAANSUhEUgAAALMAAABUCAAAAADsPlkVAAADnElEQVR4Xu2a64obMQyFPaZdAqUU+v7PWFiWhKWBmSL5JlmSJ/sjlik5LMlcsuSbs8eyxrMhvPTS/6NtcG6uPva88cv4QNUazB8hhIKMGnIvwHxNvI35AK4BdbRPzRWxeQMn39+1T+Xz/roCcGYGj1GbHZAFmBE5M1fkEfUy2ZA6QtDzsQRzhaA2YwRUaH/ma9tkyEkatD9zCHsbglTpChTob/LQXKXpD196mw+jQKzgM3N538H2JLwIabR3rYNZm7m8MxsRr694ztlAZCIl1lK+Pl/5bIJbLK0JrzPa1efO5QS/R3gfjTNPn9Hl3uakhqwkenQ9T1aeTDSCMZVbNnLXTIoGLXj4apF7ZaPM2GUQEuguFygWDiefSZMh1IbgoVs6Ts5zdAu3stlqHZd2rMrF54pchZNglKxqy+Hgc0dMMdt23lKz4eBzDHvYlFZ5HAgiB59RycDSOGtXQMUp5/t8Y3Za3o68HJ17qrY+qhY9inUm05llzSjRGEDvP+nedGZLHXHazX+LGJnPajF5nj7xNbWb4cC712yzcBncTHQRfn7wM9MV69eefL1eT05+6WmKEV2s7uph1lMwlzlFIwmo69fryNRn0lXNZWYq/dExaJPUqM+dUy7M6AsuXphz4J7iI3118zleLrWXN5KxGxc01+e/8JJWXd7yobNWQ9FUnxEZ2+S9IIPRhs2czaU+38P9rc4RkIuH5TgG7+GeNjiD5XJT7+tE5qpYggE6R0aRaEzMBgrDQZFPBJ/HdoNqMvNXerJSnuFmhtrskY0HbaYzipPPefw9jMzEbJ7HnHX0Y+53t19kTdwTs5Ft/i5O/BFHUKzBZndW83xOsBLZ8Bmwcs2QmuWzhpsESzTyGEVepq8jEgyQ5UFRnObzw8IrqI1JiNBGc/kzb4cwmngMt7u80i2RDZEChqzI32d0Gt+6w6XP6G1eghmg5ZCzE7AE81c6p2WYxTMIUphFNFYYgyDbaIm8is9UrNXQtBhz48xbis32xbhIIKsanZsuiazZvE42JK+FvAhzaYTYX92sJf7ZwCkaMXBFumoz4b42Az1F5flOJcxMsK+ukfln4woLzeU/1M5aOpQ/83bkBq7yNlp9KdKfObeiEN92SxLheZzl9ALMoHTDWiDhHfaM5ZsFxiA8TU51gxwcrTYt4HMOwaPES/iMTw1Zdk+W9FZgDp+kbphrN01LMLf1vOPEYtQqzOF+bMdZKF566UT/ANDZueNnbEMIAAAAAElFTkSuQmCC",
           "type": "image"
          }
         ],
         "layout": {
          "margin": {
           "t": 60
          }
         },
         "name": "38"
        }
       ],
       "layout": {
        "margin": {
         "t": 60
        },
        "sliders": [
         {
          "active": 0,
          "currentvalue": {
           "prefix": "animation_frame="
          },
          "len": 0.9,
          "pad": {
           "b": 10,
           "t": 60
          },
          "steps": [
           {
            "args": [
             [
              "0"
             ],
             {
              "frame": {
               "duration": 0,
               "redraw": true
              },
              "fromcurrent": true,
              "mode": "immediate",
              "transition": {
               "duration": 0,
               "easing": "linear"
              }
             }
            ],
            "label": "0",
            "method": "animate"
           },
           {
            "args": [
             [
              "1"
             ],
             {
              "frame": {
               "duration": 0,
               "redraw": true
              },
              "fromcurrent": true,
              "mode": "immediate",
              "transition": {
               "duration": 0,
               "easing": "linear"
              }
             }
            ],
            "label": "1",
            "method": "animate"
           },
           {
            "args": [
             [
              "2"
             ],
             {
              "frame": {
               "duration": 0,
               "redraw": true
              },
              "fromcurrent": true,
              "mode": "immediate",
              "transition": {
               "duration": 0,
               "easing": "linear"
              }
             }
            ],
            "label": "2",
            "method": "animate"
           },
           {
            "args": [
             [
              "3"
             ],
             {
              "frame": {
               "duration": 0,
               "redraw": true
              },
              "fromcurrent": true,
              "mode": "immediate",
              "transition": {
               "duration": 0,
               "easing": "linear"
              }
             }
            ],
            "label": "3",
            "method": "animate"
           },
           {
            "args": [
             [
              "4"
             ],
             {
              "frame": {
               "duration": 0,
               "redraw": true
              },
              "fromcurrent": true,
              "mode": "immediate",
              "transition": {
               "duration": 0,
               "easing": "linear"
              }
             }
            ],
            "label": "4",
            "method": "animate"
           },
           {
            "args": [
             [
              "5"
             ],
             {
              "frame": {
               "duration": 0,
               "redraw": true
              },
              "fromcurrent": true,
              "mode": "immediate",
              "transition": {
               "duration": 0,
               "easing": "linear"
              }
             }
            ],
            "label": "5",
            "method": "animate"
           },
           {
            "args": [
             [
              "6"
             ],
             {
              "frame": {
               "duration": 0,
               "redraw": true
              },
              "fromcurrent": true,
              "mode": "immediate",
              "transition": {
               "duration": 0,
               "easing": "linear"
              }
             }
            ],
            "label": "6",
            "method": "animate"
           },
           {
            "args": [
             [
              "7"
             ],
             {
              "frame": {
               "duration": 0,
               "redraw": true
              },
              "fromcurrent": true,
              "mode": "immediate",
              "transition": {
               "duration": 0,
               "easing": "linear"
              }
             }
            ],
            "label": "7",
            "method": "animate"
           },
           {
            "args": [
             [
              "8"
             ],
             {
              "frame": {
               "duration": 0,
               "redraw": true
              },
              "fromcurrent": true,
              "mode": "immediate",
              "transition": {
               "duration": 0,
               "easing": "linear"
              }
             }
            ],
            "label": "8",
            "method": "animate"
           },
           {
            "args": [
             [
              "9"
             ],
             {
              "frame": {
               "duration": 0,
               "redraw": true
              },
              "fromcurrent": true,
              "mode": "immediate",
              "transition": {
               "duration": 0,
               "easing": "linear"
              }
             }
            ],
            "label": "9",
            "method": "animate"
           },
           {
            "args": [
             [
              "10"
             ],
             {
              "frame": {
               "duration": 0,
               "redraw": true
              },
              "fromcurrent": true,
              "mode": "immediate",
              "transition": {
               "duration": 0,
               "easing": "linear"
              }
             }
            ],
            "label": "10",
            "method": "animate"
           },
           {
            "args": [
             [
              "11"
             ],
             {
              "frame": {
               "duration": 0,
               "redraw": true
              },
              "fromcurrent": true,
              "mode": "immediate",
              "transition": {
               "duration": 0,
               "easing": "linear"
              }
             }
            ],
            "label": "11",
            "method": "animate"
           },
           {
            "args": [
             [
              "12"
             ],
             {
              "frame": {
               "duration": 0,
               "redraw": true
              },
              "fromcurrent": true,
              "mode": "immediate",
              "transition": {
               "duration": 0,
               "easing": "linear"
              }
             }
            ],
            "label": "12",
            "method": "animate"
           },
           {
            "args": [
             [
              "13"
             ],
             {
              "frame": {
               "duration": 0,
               "redraw": true
              },
              "fromcurrent": true,
              "mode": "immediate",
              "transition": {
               "duration": 0,
               "easing": "linear"
              }
             }
            ],
            "label": "13",
            "method": "animate"
           },
           {
            "args": [
             [
              "14"
             ],
             {
              "frame": {
               "duration": 0,
               "redraw": true
              },
              "fromcurrent": true,
              "mode": "immediate",
              "transition": {
               "duration": 0,
               "easing": "linear"
              }
             }
            ],
            "label": "14",
            "method": "animate"
           },
           {
            "args": [
             [
              "15"
             ],
             {
              "frame": {
               "duration": 0,
               "redraw": true
              },
              "fromcurrent": true,
              "mode": "immediate",
              "transition": {
               "duration": 0,
               "easing": "linear"
              }
             }
            ],
            "label": "15",
            "method": "animate"
           },
           {
            "args": [
             [
              "16"
             ],
             {
              "frame": {
               "duration": 0,
               "redraw": true
              },
              "fromcurrent": true,
              "mode": "immediate",
              "transition": {
               "duration": 0,
               "easing": "linear"
              }
             }
            ],
            "label": "16",
            "method": "animate"
           },
           {
            "args": [
             [
              "17"
             ],
             {
              "frame": {
               "duration": 0,
               "redraw": true
              },
              "fromcurrent": true,
              "mode": "immediate",
              "transition": {
               "duration": 0,
               "easing": "linear"
              }
             }
            ],
            "label": "17",
            "method": "animate"
           },
           {
            "args": [
             [
              "18"
             ],
             {
              "frame": {
               "duration": 0,
               "redraw": true
              },
              "fromcurrent": true,
              "mode": "immediate",
              "transition": {
               "duration": 0,
               "easing": "linear"
              }
             }
            ],
            "label": "18",
            "method": "animate"
           },
           {
            "args": [
             [
              "19"
             ],
             {
              "frame": {
               "duration": 0,
               "redraw": true
              },
              "fromcurrent": true,
              "mode": "immediate",
              "transition": {
               "duration": 0,
               "easing": "linear"
              }
             }
            ],
            "label": "19",
            "method": "animate"
           },
           {
            "args": [
             [
              "20"
             ],
             {
              "frame": {
               "duration": 0,
               "redraw": true
              },
              "fromcurrent": true,
              "mode": "immediate",
              "transition": {
               "duration": 0,
               "easing": "linear"
              }
             }
            ],
            "label": "20",
            "method": "animate"
           },
           {
            "args": [
             [
              "21"
             ],
             {
              "frame": {
               "duration": 0,
               "redraw": true
              },
              "fromcurrent": true,
              "mode": "immediate",
              "transition": {
               "duration": 0,
               "easing": "linear"
              }
             }
            ],
            "label": "21",
            "method": "animate"
           },
           {
            "args": [
             [
              "22"
             ],
             {
              "frame": {
               "duration": 0,
               "redraw": true
              },
              "fromcurrent": true,
              "mode": "immediate",
              "transition": {
               "duration": 0,
               "easing": "linear"
              }
             }
            ],
            "label": "22",
            "method": "animate"
           },
           {
            "args": [
             [
              "23"
             ],
             {
              "frame": {
               "duration": 0,
               "redraw": true
              },
              "fromcurrent": true,
              "mode": "immediate",
              "transition": {
               "duration": 0,
               "easing": "linear"
              }
             }
            ],
            "label": "23",
            "method": "animate"
           },
           {
            "args": [
             [
              "24"
             ],
             {
              "frame": {
               "duration": 0,
               "redraw": true
              },
              "fromcurrent": true,
              "mode": "immediate",
              "transition": {
               "duration": 0,
               "easing": "linear"
              }
             }
            ],
            "label": "24",
            "method": "animate"
           },
           {
            "args": [
             [
              "25"
             ],
             {
              "frame": {
               "duration": 0,
               "redraw": true
              },
              "fromcurrent": true,
              "mode": "immediate",
              "transition": {
               "duration": 0,
               "easing": "linear"
              }
             }
            ],
            "label": "25",
            "method": "animate"
           },
           {
            "args": [
             [
              "26"
             ],
             {
              "frame": {
               "duration": 0,
               "redraw": true
              },
              "fromcurrent": true,
              "mode": "immediate",
              "transition": {
               "duration": 0,
               "easing": "linear"
              }
             }
            ],
            "label": "26",
            "method": "animate"
           },
           {
            "args": [
             [
              "27"
             ],
             {
              "frame": {
               "duration": 0,
               "redraw": true
              },
              "fromcurrent": true,
              "mode": "immediate",
              "transition": {
               "duration": 0,
               "easing": "linear"
              }
             }
            ],
            "label": "27",
            "method": "animate"
           },
           {
            "args": [
             [
              "28"
             ],
             {
              "frame": {
               "duration": 0,
               "redraw": true
              },
              "fromcurrent": true,
              "mode": "immediate",
              "transition": {
               "duration": 0,
               "easing": "linear"
              }
             }
            ],
            "label": "28",
            "method": "animate"
           },
           {
            "args": [
             [
              "29"
             ],
             {
              "frame": {
               "duration": 0,
               "redraw": true
              },
              "fromcurrent": true,
              "mode": "immediate",
              "transition": {
               "duration": 0,
               "easing": "linear"
              }
             }
            ],
            "label": "29",
            "method": "animate"
           },
           {
            "args": [
             [
              "30"
             ],
             {
              "frame": {
               "duration": 0,
               "redraw": true
              },
              "fromcurrent": true,
              "mode": "immediate",
              "transition": {
               "duration": 0,
               "easing": "linear"
              }
             }
            ],
            "label": "30",
            "method": "animate"
           },
           {
            "args": [
             [
              "31"
             ],
             {
              "frame": {
               "duration": 0,
               "redraw": true
              },
              "fromcurrent": true,
              "mode": "immediate",
              "transition": {
               "duration": 0,
               "easing": "linear"
              }
             }
            ],
            "label": "31",
            "method": "animate"
           },
           {
            "args": [
             [
              "32"
             ],
             {
              "frame": {
               "duration": 0,
               "redraw": true
              },
              "fromcurrent": true,
              "mode": "immediate",
              "transition": {
               "duration": 0,
               "easing": "linear"
              }
             }
            ],
            "label": "32",
            "method": "animate"
           },
           {
            "args": [
             [
              "33"
             ],
             {
              "frame": {
               "duration": 0,
               "redraw": true
              },
              "fromcurrent": true,
              "mode": "immediate",
              "transition": {
               "duration": 0,
               "easing": "linear"
              }
             }
            ],
            "label": "33",
            "method": "animate"
           },
           {
            "args": [
             [
              "34"
             ],
             {
              "frame": {
               "duration": 0,
               "redraw": true
              },
              "fromcurrent": true,
              "mode": "immediate",
              "transition": {
               "duration": 0,
               "easing": "linear"
              }
             }
            ],
            "label": "34",
            "method": "animate"
           },
           {
            "args": [
             [
              "35"
             ],
             {
              "frame": {
               "duration": 0,
               "redraw": true
              },
              "fromcurrent": true,
              "mode": "immediate",
              "transition": {
               "duration": 0,
               "easing": "linear"
              }
             }
            ],
            "label": "35",
            "method": "animate"
           },
           {
            "args": [
             [
              "36"
             ],
             {
              "frame": {
               "duration": 0,
               "redraw": true
              },
              "fromcurrent": true,
              "mode": "immediate",
              "transition": {
               "duration": 0,
               "easing": "linear"
              }
             }
            ],
            "label": "36",
            "method": "animate"
           },
           {
            "args": [
             [
              "37"
             ],
             {
              "frame": {
               "duration": 0,
               "redraw": true
              },
              "fromcurrent": true,
              "mode": "immediate",
              "transition": {
               "duration": 0,
               "easing": "linear"
              }
             }
            ],
            "label": "37",
            "method": "animate"
           },
           {
            "args": [
             [
              "38"
             ],
             {
              "frame": {
               "duration": 0,
               "redraw": true
              },
              "fromcurrent": true,
              "mode": "immediate",
              "transition": {
               "duration": 0,
               "easing": "linear"
              }
             }
            ],
            "label": "38",
            "method": "animate"
           }
          ],
          "x": 0.1,
          "xanchor": "left",
          "y": 0,
          "yanchor": "top"
         }
        ],
        "template": {
         "data": {
          "bar": [
           {
            "error_x": {
             "color": "#2a3f5f"
            },
            "error_y": {
             "color": "#2a3f5f"
            },
            "marker": {
             "line": {
              "color": "#E5ECF6",
              "width": 0.5
             },
             "pattern": {
              "fillmode": "overlay",
              "size": 10,
              "solidity": 0.2
             }
            },
            "type": "bar"
           }
          ],
          "barpolar": [
           {
            "marker": {
             "line": {
              "color": "#E5ECF6",
              "width": 0.5
             },
             "pattern": {
              "fillmode": "overlay",
              "size": 10,
              "solidity": 0.2
             }
            },
            "type": "barpolar"
           }
          ],
          "carpet": [
           {
            "aaxis": {
             "endlinecolor": "#2a3f5f",
             "gridcolor": "white",
             "linecolor": "white",
             "minorgridcolor": "white",
             "startlinecolor": "#2a3f5f"
            },
            "baxis": {
             "endlinecolor": "#2a3f5f",
             "gridcolor": "white",
             "linecolor": "white",
             "minorgridcolor": "white",
             "startlinecolor": "#2a3f5f"
            },
            "type": "carpet"
           }
          ],
          "choropleth": [
           {
            "colorbar": {
             "outlinewidth": 0,
             "ticks": ""
            },
            "type": "choropleth"
           }
          ],
          "contour": [
           {
            "colorbar": {
             "outlinewidth": 0,
             "ticks": ""
            },
            "colorscale": [
             [
              0,
              "#0d0887"
             ],
             [
              0.1111111111111111,
              "#46039f"
             ],
             [
              0.2222222222222222,
              "#7201a8"
             ],
             [
              0.3333333333333333,
              "#9c179e"
             ],
             [
              0.4444444444444444,
              "#bd3786"
             ],
             [
              0.5555555555555556,
              "#d8576b"
             ],
             [
              0.6666666666666666,
              "#ed7953"
             ],
             [
              0.7777777777777778,
              "#fb9f3a"
             ],
             [
              0.8888888888888888,
              "#fdca26"
             ],
             [
              1,
              "#f0f921"
             ]
            ],
            "type": "contour"
           }
          ],
          "contourcarpet": [
           {
            "colorbar": {
             "outlinewidth": 0,
             "ticks": ""
            },
            "type": "contourcarpet"
           }
          ],
          "heatmap": [
           {
            "colorbar": {
             "outlinewidth": 0,
             "ticks": ""
            },
            "colorscale": [
             [
              0,
              "#0d0887"
             ],
             [
              0.1111111111111111,
              "#46039f"
             ],
             [
              0.2222222222222222,
              "#7201a8"
             ],
             [
              0.3333333333333333,
              "#9c179e"
             ],
             [
              0.4444444444444444,
              "#bd3786"
             ],
             [
              0.5555555555555556,
              "#d8576b"
             ],
             [
              0.6666666666666666,
              "#ed7953"
             ],
             [
              0.7777777777777778,
              "#fb9f3a"
             ],
             [
              0.8888888888888888,
              "#fdca26"
             ],
             [
              1,
              "#f0f921"
             ]
            ],
            "type": "heatmap"
           }
          ],
          "histogram": [
           {
            "marker": {
             "pattern": {
              "fillmode": "overlay",
              "size": 10,
              "solidity": 0.2
             }
            },
            "type": "histogram"
           }
          ],
          "histogram2d": [
           {
            "colorbar": {
             "outlinewidth": 0,
             "ticks": ""
            },
            "colorscale": [
             [
              0,
              "#0d0887"
             ],
             [
              0.1111111111111111,
              "#46039f"
             ],
             [
              0.2222222222222222,
              "#7201a8"
             ],
             [
              0.3333333333333333,
              "#9c179e"
             ],
             [
              0.4444444444444444,
              "#bd3786"
             ],
             [
              0.5555555555555556,
              "#d8576b"
             ],
             [
              0.6666666666666666,
              "#ed7953"
             ],
             [
              0.7777777777777778,
              "#fb9f3a"
             ],
             [
              0.8888888888888888,
              "#fdca26"
             ],
             [
              1,
              "#f0f921"
             ]
            ],
            "type": "histogram2d"
           }
          ],
          "histogram2dcontour": [
           {
            "colorbar": {
             "outlinewidth": 0,
             "ticks": ""
            },
            "colorscale": [
             [
              0,
              "#0d0887"
             ],
             [
              0.1111111111111111,
              "#46039f"
             ],
             [
              0.2222222222222222,
              "#7201a8"
             ],
             [
              0.3333333333333333,
              "#9c179e"
             ],
             [
              0.4444444444444444,
              "#bd3786"
             ],
             [
              0.5555555555555556,
              "#d8576b"
             ],
             [
              0.6666666666666666,
              "#ed7953"
             ],
             [
              0.7777777777777778,
              "#fb9f3a"
             ],
             [
              0.8888888888888888,
              "#fdca26"
             ],
             [
              1,
              "#f0f921"
             ]
            ],
            "type": "histogram2dcontour"
           }
          ],
          "mesh3d": [
           {
            "colorbar": {
             "outlinewidth": 0,
             "ticks": ""
            },
            "type": "mesh3d"
           }
          ],
          "parcoords": [
           {
            "line": {
             "colorbar": {
              "outlinewidth": 0,
              "ticks": ""
             }
            },
            "type": "parcoords"
           }
          ],
          "pie": [
           {
            "automargin": true,
            "type": "pie"
           }
          ],
          "scatter": [
           {
            "fillpattern": {
             "fillmode": "overlay",
             "size": 10,
             "solidity": 0.2
            },
            "type": "scatter"
           }
          ],
          "scatter3d": [
           {
            "line": {
             "colorbar": {
              "outlinewidth": 0,
              "ticks": ""
             }
            },
            "marker": {
             "colorbar": {
              "outlinewidth": 0,
              "ticks": ""
             }
            },
            "type": "scatter3d"
           }
          ],
          "scattercarpet": [
           {
            "marker": {
             "colorbar": {
              "outlinewidth": 0,
              "ticks": ""
             }
            },
            "type": "scattercarpet"
           }
          ],
          "scattergeo": [
           {
            "marker": {
             "colorbar": {
              "outlinewidth": 0,
              "ticks": ""
             }
            },
            "type": "scattergeo"
           }
          ],
          "scattergl": [
           {
            "marker": {
             "colorbar": {
              "outlinewidth": 0,
              "ticks": ""
             }
            },
            "type": "scattergl"
           }
          ],
          "scattermap": [
           {
            "marker": {
             "colorbar": {
              "outlinewidth": 0,
              "ticks": ""
             }
            },
            "type": "scattermap"
           }
          ],
          "scattermapbox": [
           {
            "marker": {
             "colorbar": {
              "outlinewidth": 0,
              "ticks": ""
             }
            },
            "type": "scattermapbox"
           }
          ],
          "scatterpolar": [
           {
            "marker": {
             "colorbar": {
              "outlinewidth": 0,
              "ticks": ""
             }
            },
            "type": "scatterpolar"
           }
          ],
          "scatterpolargl": [
           {
            "marker": {
             "colorbar": {
              "outlinewidth": 0,
              "ticks": ""
             }
            },
            "type": "scatterpolargl"
           }
          ],
          "scatterternary": [
           {
            "marker": {
             "colorbar": {
              "outlinewidth": 0,
              "ticks": ""
             }
            },
            "type": "scatterternary"
           }
          ],
          "surface": [
           {
            "colorbar": {
             "outlinewidth": 0,
             "ticks": ""
            },
            "colorscale": [
             [
              0,
              "#0d0887"
             ],
             [
              0.1111111111111111,
              "#46039f"
             ],
             [
              0.2222222222222222,
              "#7201a8"
             ],
             [
              0.3333333333333333,
              "#9c179e"
             ],
             [
              0.4444444444444444,
              "#bd3786"
             ],
             [
              0.5555555555555556,
              "#d8576b"
             ],
             [
              0.6666666666666666,
              "#ed7953"
             ],
             [
              0.7777777777777778,
              "#fb9f3a"
             ],
             [
              0.8888888888888888,
              "#fdca26"
             ],
             [
              1,
              "#f0f921"
             ]
            ],
            "type": "surface"
           }
          ],
          "table": [
           {
            "cells": {
             "fill": {
              "color": "#EBF0F8"
             },
             "line": {
              "color": "white"
             }
            },
            "header": {
             "fill": {
              "color": "#C8D4E3"
             },
             "line": {
              "color": "white"
             }
            },
            "type": "table"
           }
          ]
         },
         "layout": {
          "annotationdefaults": {
           "arrowcolor": "#2a3f5f",
           "arrowhead": 0,
           "arrowwidth": 1
          },
          "autotypenumbers": "strict",
          "coloraxis": {
           "colorbar": {
            "outlinewidth": 0,
            "ticks": ""
           }
          },
          "colorscale": {
           "diverging": [
            [
             0,
             "#8e0152"
            ],
            [
             0.1,
             "#c51b7d"
            ],
            [
             0.2,
             "#de77ae"
            ],
            [
             0.3,
             "#f1b6da"
            ],
            [
             0.4,
             "#fde0ef"
            ],
            [
             0.5,
             "#f7f7f7"
            ],
            [
             0.6,
             "#e6f5d0"
            ],
            [
             0.7,
             "#b8e186"
            ],
            [
             0.8,
             "#7fbc41"
            ],
            [
             0.9,
             "#4d9221"
            ],
            [
             1,
             "#276419"
            ]
           ],
           "sequential": [
            [
             0,
             "#0d0887"
            ],
            [
             0.1111111111111111,
             "#46039f"
            ],
            [
             0.2222222222222222,
             "#7201a8"
            ],
            [
             0.3333333333333333,
             "#9c179e"
            ],
            [
             0.4444444444444444,
             "#bd3786"
            ],
            [
             0.5555555555555556,
             "#d8576b"
            ],
            [
             0.6666666666666666,
             "#ed7953"
            ],
            [
             0.7777777777777778,
             "#fb9f3a"
            ],
            [
             0.8888888888888888,
             "#fdca26"
            ],
            [
             1,
             "#f0f921"
            ]
           ],
           "sequentialminus": [
            [
             0,
             "#0d0887"
            ],
            [
             0.1111111111111111,
             "#46039f"
            ],
            [
             0.2222222222222222,
             "#7201a8"
            ],
            [
             0.3333333333333333,
             "#9c179e"
            ],
            [
             0.4444444444444444,
             "#bd3786"
            ],
            [
             0.5555555555555556,
             "#d8576b"
            ],
            [
             0.6666666666666666,
             "#ed7953"
            ],
            [
             0.7777777777777778,
             "#fb9f3a"
            ],
            [
             0.8888888888888888,
             "#fdca26"
            ],
            [
             1,
             "#f0f921"
            ]
           ]
          },
          "colorway": [
           "#636efa",
           "#EF553B",
           "#00cc96",
           "#ab63fa",
           "#FFA15A",
           "#19d3f3",
           "#FF6692",
           "#B6E880",
           "#FF97FF",
           "#FECB52"
          ],
          "font": {
           "color": "#2a3f5f"
          },
          "geo": {
           "bgcolor": "white",
           "lakecolor": "white",
           "landcolor": "#E5ECF6",
           "showlakes": true,
           "showland": true,
           "subunitcolor": "white"
          },
          "hoverlabel": {
           "align": "left"
          },
          "hovermode": "closest",
          "mapbox": {
           "style": "light"
          },
          "paper_bgcolor": "white",
          "plot_bgcolor": "#E5ECF6",
          "polar": {
           "angularaxis": {
            "gridcolor": "white",
            "linecolor": "white",
            "ticks": ""
           },
           "bgcolor": "#E5ECF6",
           "radialaxis": {
            "gridcolor": "white",
            "linecolor": "white",
            "ticks": ""
           }
          },
          "scene": {
           "xaxis": {
            "backgroundcolor": "#E5ECF6",
            "gridcolor": "white",
            "gridwidth": 2,
            "linecolor": "white",
            "showbackground": true,
            "ticks": "",
            "zerolinecolor": "white"
           },
           "yaxis": {
            "backgroundcolor": "#E5ECF6",
            "gridcolor": "white",
            "gridwidth": 2,
            "linecolor": "white",
            "showbackground": true,
            "ticks": "",
            "zerolinecolor": "white"
           },
           "zaxis": {
            "backgroundcolor": "#E5ECF6",
            "gridcolor": "white",
            "gridwidth": 2,
            "linecolor": "white",
            "showbackground": true,
            "ticks": "",
            "zerolinecolor": "white"
           }
          },
          "shapedefaults": {
           "line": {
            "color": "#2a3f5f"
           }
          },
          "ternary": {
           "aaxis": {
            "gridcolor": "white",
            "linecolor": "white",
            "ticks": ""
           },
           "baxis": {
            "gridcolor": "white",
            "linecolor": "white",
            "ticks": ""
           },
           "bgcolor": "#E5ECF6",
           "caxis": {
            "gridcolor": "white",
            "linecolor": "white",
            "ticks": ""
           }
          },
          "title": {
           "x": 0.05
          },
          "xaxis": {
           "automargin": true,
           "gridcolor": "white",
           "linecolor": "white",
           "ticks": "",
           "title": {
            "standoff": 15
           },
           "zerolinecolor": "white",
           "zerolinewidth": 2
          },
          "yaxis": {
           "automargin": true,
           "gridcolor": "white",
           "linecolor": "white",
           "ticks": "",
           "title": {
            "standoff": 15
           },
           "zerolinecolor": "white",
           "zerolinewidth": 2
          }
         }
        },
        "updatemenus": [
         {
          "buttons": [
           {
            "args": [
             null,
             {
              "frame": {
               "duration": 500,
               "redraw": true
              },
              "fromcurrent": true,
              "mode": "immediate",
              "transition": {
               "duration": 500,
               "easing": "linear"
              }
             }
            ],
            "label": "&#9654;",
            "method": "animate"
           },
           {
            "args": [
             [
              null
             ],
             {
              "frame": {
               "duration": 0,
               "redraw": true
              },
              "fromcurrent": true,
              "mode": "immediate",
              "transition": {
               "duration": 0,
               "easing": "linear"
              }
             }
            ],
            "label": "&#9724;",
            "method": "animate"
           }
          ],
          "direction": "left",
          "pad": {
           "r": 10,
           "t": 70
          },
          "showactive": false,
          "type": "buttons",
          "x": 0.1,
          "xanchor": "right",
          "y": 0,
          "yanchor": "top"
         }
        ],
        "xaxis": {
         "anchor": "y",
         "domain": [
          0,
          1
         ]
        },
        "yaxis": {
         "anchor": "x",
         "domain": [
          0,
          1
         ]
        }
       }
      }
     },
     "metadata": {},
     "output_type": "display_data"
    }
   ],
   "source": [
    "import plotly.express as px\n",
    "\n",
    "fig = px.imshow(sequence, animation_frame=0, binary_string=True)\n",
    "fig.show()\n"
   ]
  },
  {
   "cell_type": "code",
   "execution_count": null,
   "id": "2f0bd7e6",
   "metadata": {},
   "outputs": [],
   "source": []
  },
  {
   "cell_type": "code",
   "execution_count": null,
   "id": "80b261ee",
   "metadata": {},
   "outputs": [],
   "source": []
  }
 ],
 "metadata": {
  "kernelspec": {
   "display_name": "Python 3",
   "language": "python",
   "name": "python3"
  },
  "language_info": {
   "codemirror_mode": {
    "name": "ipython",
    "version": 3
   },
   "file_extension": ".py",
   "mimetype": "text/x-python",
   "name": "python",
   "nbconvert_exporter": "python",
   "pygments_lexer": "ipython3",
   "version": "3.10.5"
  }
 },
 "nbformat": 4,
 "nbformat_minor": 5
}
