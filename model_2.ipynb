{
 "cells": [
  {
   "cell_type": "code",
   "execution_count": null,
   "id": "a2d70aa5",
   "metadata": {},
   "outputs": [
    {
     "name": "stderr",
     "output_type": "stream",
     "text": [
      " 57%|█████▋    | 193/336 [00:01<00:01, 101.85it/s]\n"
     ]
    },
    {
     "ename": "error",
     "evalue": "OpenCV(4.7.0) /Users/xperience/GHA-OCV-Python/_work/opencv-python/opencv-python/opencv/modules/imgproc/src/resize.cpp:3940: error: (-215:Assertion failed) func != 0 in function 'resize'\n",
     "output_type": "error",
     "traceback": [
      "\u001b[0;31m---------------------------------------------------------------------------\u001b[0m",
      "\u001b[0;31merror\u001b[0m                                     Traceback (most recent call last)",
      "Cell \u001b[0;32mIn[2], line 22\u001b[0m\n\u001b[1;32m     20\u001b[0m frame \u001b[38;5;241m=\u001b[39m sequence[i]\n\u001b[1;32m     21\u001b[0m frame_np \u001b[38;5;241m=\u001b[39m np\u001b[38;5;241m.\u001b[39marray(frame)  \u001b[38;5;66;03m# h5py veri yapısını NumPy'e çevir\u001b[39;00m\n\u001b[0;32m---> 22\u001b[0m resized \u001b[38;5;241m=\u001b[39m \u001b[43mcv2\u001b[49m\u001b[38;5;241;43m.\u001b[39;49m\u001b[43mresize\u001b[49m\u001b[43m(\u001b[49m\u001b[43mframe_np\u001b[49m\u001b[43m,\u001b[49m\u001b[43m \u001b[49m\u001b[43m(\u001b[49m\u001b[38;5;241;43m64\u001b[39;49m\u001b[43m,\u001b[49m\u001b[43m \u001b[49m\u001b[38;5;241;43m64\u001b[39;49m\u001b[43m)\u001b[49m\u001b[43m)\u001b[49m\n\u001b[1;32m     23\u001b[0m flattened \u001b[38;5;241m=\u001b[39m resized\u001b[38;5;241m.\u001b[39mflatten()  \u001b[38;5;66;03m# [4096]\u001b[39;00m\n\u001b[1;32m     24\u001b[0m frames\u001b[38;5;241m.\u001b[39mappend(flattened)\n",
      "\u001b[0;31merror\u001b[0m: OpenCV(4.7.0) /Users/xperience/GHA-OCV-Python/_work/opencv-python/opencv-python/opencv/modules/imgproc/src/resize.cpp:3940: error: (-215:Assertion failed) func != 0 in function 'resize'\n"
     ]
    }
   ],
   "source": [
    "import numpy as np\n",
    "import h5py\n",
    "import os\n",
    "import cv2\n",
    "from sklearn.decomposition import PCA\n",
    "from tqdm import tqdm\n",
    "\n",
    "X = []\n",
    "y = []\n",
    "\n",
    "for file in tqdm(os.listdir(\"gestureData/\")):\n",
    "    if file.endswith(\".mat\"):\n",
    "        user_id = int(file.split(\"_\")[2])\n",
    "        with h5py.File(f\"gestureData/{file}\", \"r\") as f:\n",
    "            key = list(f.keys())[0]  # Örn. 'depth_sequence'\n",
    "            sequence = f[key][:]  # shape: [num_frames, height, width]\n",
    "            if sequence.shape[0] < 10:\n",
    "                continue\n",
    "            \n",
    "            frames = []\n",
    "            for i in range(sequence.shape[0]):\n",
    "                frame = sequence[i]\n",
    "                frame_np = np.array(frame)  # h5py veri yapısını NumPy'e çevir\n",
    "                resized = cv2.resize(frame_np, (64, 64))\n",
    "                flattened = resized.flatten()  # [4096]\n",
    "                frames.append(flattened)\n",
    "\n",
    "            sequence_matrix = np.stack(frames, axis=0)  # [num_frames, 4096]\n",
    "            \n",
    "            # PCA uygulayarak sabit boyuta indir\n",
    "            pca = PCA(n_components=128)  # veya 256\n",
    "            try:\n",
    "                sequence_pca = pca.fit_transform(sequence_matrix)  # [num_frames, 128]\n",
    "                mean_vector = sequence_pca.mean(axis=0)  # [128]\n",
    "                X.append(mean_vector)\n",
    "                y.append(user_id)\n",
    "            except:\n",
    "                continue  # bazı kısa diziler PCA için uygun olmayabilir\n"
   ]
  },
  {
   "cell_type": "code",
   "execution_count": null,
   "id": "db38c6c1",
   "metadata": {},
   "outputs": [],
   "source": [
    "from tensorflow.keras.models import Sequential\n",
    "from tensorflow.keras.layers import Dense, Dropout\n",
    "from tensorflow.keras.utils import to_categorical\n",
    "\n",
    "X = np.array(X)\n",
    "y = np.array(y) - 1  # ID'ler 1-10 arasında → 0-9 yap\n",
    "\n",
    "y_cat = to_categorical(y)\n",
    "\n",
    "model = Sequential([\n",
    "    Dense(256, activation='relu', input_shape=(128,)),\n",
    "    Dropout(0.3),\n",
    "    Dense(128, activation='relu'),\n",
    "    Dropout(0.3),\n",
    "    Dense(10, activation='softmax')\n",
    "])\n",
    "\n",
    "model.compile(optimizer='adam', loss='categorical_crossentropy', metrics=['accuracy'])\n",
    "model.fit(X, y_cat, epochs=25, batch_size=16, validation_split=0.2)\n"
   ]
  },
  {
   "cell_type": "code",
   "execution_count": null,
   "id": "f55d9f8b",
   "metadata": {},
   "outputs": [],
   "source": []
  },
  {
   "cell_type": "code",
   "execution_count": null,
   "id": "6f3fe466",
   "metadata": {},
   "outputs": [],
   "source": []
  }
 ],
 "metadata": {
  "kernelspec": {
   "display_name": "Python 3",
   "language": "python",
   "name": "python3"
  },
  "language_info": {
   "codemirror_mode": {
    "name": "ipython",
    "version": 3
   },
   "file_extension": ".py",
   "mimetype": "text/x-python",
   "name": "python",
   "nbconvert_exporter": "python",
   "pygments_lexer": "ipython3",
   "version": "3.10.5"
  }
 },
 "nbformat": 4,
 "nbformat_minor": 5
}
